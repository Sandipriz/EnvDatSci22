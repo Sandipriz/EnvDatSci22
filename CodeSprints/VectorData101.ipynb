{
  "cells": [
    {
      "cell_type": "markdown",
      "metadata": {
        "id": "view-in-github",
        "colab_type": "text"
      },
      "source": [
        "<a href=\"https://colab.research.google.com/github/Sandipriz/EnvDatSci22/blob/master/CodeSprints/VectorData101.ipynb\" target=\"_parent\"><img src=\"https://colab.research.google.com/assets/colab-badge.svg\" alt=\"Open In Colab\"/></a>"
      ]
    },
    {
      "cell_type": "markdown",
      "metadata": {
        "id": "Wy65tB7NAWRy"
      },
      "source": [
        "# Spatial Vector Data in Python w/ Geopandas\n",
        "You will use the geopandas library to work with vector data in Python. Geopandas is built on top of the Python Pandas library. It stores spatial data in a tabular, dataframe format.\n",
        "\n",
        "This notebook will take you through [Lesson 3 in Introductory Earth Data Science](https://www.earthdatascience.org/courses/intro-to-earth-data-science/file-formats/use-spatial-data/use-vector-data/) with some additional exercises from the [Geopandas project page](https://geopandas.org/en/v0.8.2/)\n"
      ]
    },
    {
      "cell_type": "markdown",
      "metadata": {
        "id": "Hd7IojYFAWR0"
      },
      "source": [
        "[![Open In Colab](https://colab.research.google.com/assets/colab-badge.svg)](https://colab.research.google.com/github/LizCarter492/EnvDatSci22/blob/master/CodeSprints/VectorData101.ipynb)"
      ]
    },
    {
      "cell_type": "markdown",
      "source": [
        "# Sync your colab environment with your Google Drive and GitHub"
      ],
      "metadata": {
        "id": "AoZASwHLwpAS"
      }
    },
    {
      "cell_type": "code",
      "execution_count": 44,
      "metadata": {
        "id": "n63jAsimAWR1",
        "colab": {
          "base_uri": "https://localhost:8080/"
        },
        "outputId": "829870d2-1dde-49b9-cdde-3e120f5a5ee7"
      },
      "outputs": [
        {
          "output_type": "stream",
          "name": "stdout",
          "text": [
            "Mounted at /content/drive\n"
          ]
        }
      ],
      "source": [
        "#attach to Google Drive\n",
        "from google.colab import drive\n",
        "drive.mount('/content/drive')"
      ]
    },
    {
      "cell_type": "code",
      "execution_count": 45,
      "metadata": {
        "id": "s6oLyamZAWR2",
        "colab": {
          "base_uri": "https://localhost:8080/",
          "height": 808
        },
        "outputId": "ffd850be-85b0-49c5-e449-65b1cb7533a7"
      },
      "outputs": [
        {
          "output_type": "stream",
          "name": "stdout",
          "text": [
            "Looking in indexes: https://pypi.org/simple, https://us-python.pkg.dev/colab-wheels/public/simple/\n",
            "Collecting clmutils\n",
            "  Downloading clmutils-0.1.5-py3-none-any.whl (13 kB)\n",
            "Collecting logzero<2.0.0,>=1.6.3\n",
            "  Downloading logzero-1.7.0-py2.py3-none-any.whl (16 kB)\n",
            "Collecting psutil<6.0.0,>=5.8.0\n",
            "  Downloading psutil-5.9.2-cp37-cp37m-manylinux_2_12_x86_64.manylinux2010_x86_64.manylinux_2_17_x86_64.manylinux2014_x86_64.whl (281 kB)\n",
            "\u001b[K     |████████████████████████████████| 281 kB 47.5 MB/s \n",
            "\u001b[?25hRequirement already satisfied: pydantic[dotenv]<2.0.0,>=1.7.3 in /usr/local/lib/python3.7/dist-packages (from clmutils) (1.9.2)\n",
            "Collecting chardet<5.0.0,>=4.0.0\n",
            "  Downloading chardet-4.0.0-py2.py3-none-any.whl (178 kB)\n",
            "\u001b[K     |████████████████████████████████| 178 kB 63.0 MB/s \n",
            "\u001b[?25hRequirement already satisfied: typing-extensions>=3.7.4.3 in /usr/local/lib/python3.7/dist-packages (from pydantic[dotenv]<2.0.0,>=1.7.3->clmutils) (4.1.1)\n",
            "Collecting python-dotenv>=0.10.4\n",
            "  Downloading python_dotenv-0.21.0-py3-none-any.whl (18 kB)\n",
            "Installing collected packages: python-dotenv, psutil, logzero, chardet, clmutils\n",
            "  Attempting uninstall: psutil\n",
            "    Found existing installation: psutil 5.4.8\n",
            "    Uninstalling psutil-5.4.8:\n",
            "      Successfully uninstalled psutil-5.4.8\n",
            "  Attempting uninstall: chardet\n",
            "    Found existing installation: chardet 3.0.4\n",
            "    Uninstalling chardet-3.0.4:\n",
            "      Successfully uninstalled chardet-3.0.4\n",
            "\u001b[31mERROR: pip's dependency resolver does not currently take into account all the packages that are installed. This behaviour is the source of the following dependency conflicts.\n",
            "requests 2.23.0 requires chardet<4,>=3.0.2, but you have chardet 4.0.0 which is incompatible.\u001b[0m\n",
            "Successfully installed chardet-4.0.0 clmutils-0.1.5 logzero-1.7.0 psutil-5.9.2 python-dotenv-0.21.0\n"
          ]
        },
        {
          "output_type": "display_data",
          "data": {
            "application/vnd.colab-display-data+json": {
              "pip_warning": {
                "packages": [
                  "chardet",
                  "psutil"
                ]
              }
            }
          },
          "metadata": {}
        },
        {
          "output_type": "stream",
          "name": "stderr",
          "text": [
            "[I 221004 18:32:17 chmod600:24] /root/.ssh/gh_Sandipriz mode set to 0o100600\n",
            "[I 221004 18:32:17 run_cmd1:33] ssh -T git@github.com -o StrictHostKeyChecking=no...\n",
            "    \n",
            "[E 221004 18:32:17 run_cmd1:35] Warning: Permanently added 'github.com,140.82.113.3' (ECDSA) to the list of known hosts.\n",
            "    Load key \"/root/.ssh/gh_Sandipriz\": invalid format\n",
            "    git@github.com: Permission denied (publickey).\n",
            "    ,\n",
            "[W 221004 18:32:17 setup_git:161] \n",
            "     There appears to be some problem.\n",
            "    You may wish to exam the debug messages above, \n",
            "    fix it and give it another try.\n"
          ]
        }
      ],
      "source": [
        "#Connect to GitHub\n",
        "!pip install clmutils\n",
        "from clmutils import setup_git, Settings\n",
        "# note, for this to work, you must create a .env folder in your Google Drive with your username, email, and gc token. Example:\n",
        "# !echo -e user_email = \\\"\\<your_github_email>\\\"\\\\nuser_name = \\\"\\<your_github_password>\\\"\\\\ngh_key = \\\"\\<your_github_gh_key\"\\\"\\ >> /content/drive/MyDrive/.env\n",
        "\n",
        "config = Settings()\n",
        "setup_git(\n",
        "    user_name=config.user_name,\n",
        "    user_email=config.user_email,\n",
        "    priv_key=config.gh_key\n",
        ")\n",
        "\n"
      ]
    },
    {
      "cell_type": "code",
      "source": [
        "# Update your local (to Google Drive) EnvDatSci22 repo OR download your forked repository if you've never done so before\n",
        "# MAKE SURE TO EDIT THIS CODE TO PUT YOUR GITHUB USERNAME!!!\n",
        "\n",
        "!git -C EnvDatSci22 pull || git clone https://github.com/Sandipriz/EnvDatSci22 EnvDatSci22"
      ],
      "metadata": {
        "id": "q1JXhrDbCDjr",
        "colab": {
          "base_uri": "https://localhost:8080/"
        },
        "outputId": "c1678ce7-b4f8-4e61-ab4f-84798f1ed11a"
      },
      "execution_count": 47,
      "outputs": [
        {
          "output_type": "stream",
          "name": "stdout",
          "text": [
            "fatal: cannot change to 'EnvDatSci22': No such file or directory\n",
            "Cloning into 'EnvDatSci22'...\n",
            "remote: Enumerating objects: 312, done.\u001b[K\n",
            "remote: Counting objects: 100% (128/128), done.\u001b[K\n",
            "remote: Compressing objects: 100% (28/28), done.\u001b[K\n",
            "remote: Total 312 (delta 122), reused 102 (delta 100), pack-reused 184\u001b[K\n",
            "Receiving objects: 100% (312/312), 1.82 MiB | 25.12 MiB/s, done.\n",
            "Resolving deltas: 100% (174/174), done.\n"
          ]
        }
      ]
    },
    {
      "cell_type": "markdown",
      "source": [
        "# The Code Sprint"
      ],
      "metadata": {
        "id": "WmOwykNxwvL1"
      }
    },
    {
      "cell_type": "code",
      "source": [
        "!pip install geopandas"
      ],
      "metadata": {
        "id": "9KyeM4C89orB",
        "colab": {
          "base_uri": "https://localhost:8080/"
        },
        "outputId": "a30949a4-2b51-47fe-8363-0a1f21d17515"
      },
      "execution_count": 1,
      "outputs": [
        {
          "output_type": "stream",
          "name": "stdout",
          "text": [
            "Looking in indexes: https://pypi.org/simple, https://us-python.pkg.dev/colab-wheels/public/simple/\n",
            "Collecting geopandas\n",
            "  Downloading geopandas-0.10.2-py2.py3-none-any.whl (1.0 MB)\n",
            "\u001b[K     |████████████████████████████████| 1.0 MB 5.2 MB/s \n",
            "\u001b[?25hRequirement already satisfied: shapely>=1.6 in /usr/local/lib/python3.7/dist-packages (from geopandas) (1.8.4)\n",
            "Collecting fiona>=1.8\n",
            "  Downloading Fiona-1.8.21-cp37-cp37m-manylinux2014_x86_64.whl (16.7 MB)\n",
            "\u001b[K     |████████████████████████████████| 16.7 MB 40.7 MB/s \n",
            "\u001b[?25hRequirement already satisfied: pandas>=0.25.0 in /usr/local/lib/python3.7/dist-packages (from geopandas) (1.3.5)\n",
            "Collecting pyproj>=2.2.0\n",
            "  Downloading pyproj-3.2.1-cp37-cp37m-manylinux2010_x86_64.whl (6.3 MB)\n",
            "\u001b[K     |████████████████████████████████| 6.3 MB 32.4 MB/s \n",
            "\u001b[?25hRequirement already satisfied: setuptools in /usr/local/lib/python3.7/dist-packages (from fiona>=1.8->geopandas) (57.4.0)\n",
            "Requirement already satisfied: click>=4.0 in /usr/local/lib/python3.7/dist-packages (from fiona>=1.8->geopandas) (7.1.2)\n",
            "Collecting munch\n",
            "  Downloading munch-2.5.0-py2.py3-none-any.whl (10 kB)\n",
            "Collecting click-plugins>=1.0\n",
            "  Downloading click_plugins-1.1.1-py2.py3-none-any.whl (7.5 kB)\n",
            "Requirement already satisfied: certifi in /usr/local/lib/python3.7/dist-packages (from fiona>=1.8->geopandas) (2022.6.15)\n",
            "Collecting cligj>=0.5\n",
            "  Downloading cligj-0.7.2-py3-none-any.whl (7.1 kB)\n",
            "Requirement already satisfied: six>=1.7 in /usr/local/lib/python3.7/dist-packages (from fiona>=1.8->geopandas) (1.15.0)\n",
            "Requirement already satisfied: attrs>=17 in /usr/local/lib/python3.7/dist-packages (from fiona>=1.8->geopandas) (22.1.0)\n",
            "Requirement already satisfied: pytz>=2017.3 in /usr/local/lib/python3.7/dist-packages (from pandas>=0.25.0->geopandas) (2022.2.1)\n",
            "Requirement already satisfied: python-dateutil>=2.7.3 in /usr/local/lib/python3.7/dist-packages (from pandas>=0.25.0->geopandas) (2.8.2)\n",
            "Requirement already satisfied: numpy>=1.17.3 in /usr/local/lib/python3.7/dist-packages (from pandas>=0.25.0->geopandas) (1.21.6)\n",
            "Installing collected packages: munch, cligj, click-plugins, pyproj, fiona, geopandas\n",
            "Successfully installed click-plugins-1.1.1 cligj-0.7.2 fiona-1.8.21 geopandas-0.10.2 munch-2.5.0 pyproj-3.2.1\n"
          ]
        }
      ]
    },
    {
      "cell_type": "code",
      "source": [
        "!pip install earthpy\n",
        "!pip install rtree\n",
        "!pip install pygeos\n",
        "!pip install mapclassify>=2.4.0"
      ],
      "metadata": {
        "id": "xgMUKEkJLmB6",
        "colab": {
          "base_uri": "https://localhost:8080/"
        },
        "outputId": "a63fb03f-8a43-408f-bf95-58cf6bcff11e"
      },
      "execution_count": 2,
      "outputs": [
        {
          "output_type": "stream",
          "name": "stdout",
          "text": [
            "Looking in indexes: https://pypi.org/simple, https://us-python.pkg.dev/colab-wheels/public/simple/\n",
            "Collecting earthpy\n",
            "  Downloading earthpy-0.9.4-py3-none-any.whl (1.4 MB)\n",
            "\u001b[K     |████████████████████████████████| 1.4 MB 5.1 MB/s \n",
            "\u001b[?25hRequirement already satisfied: geopandas in /usr/local/lib/python3.7/dist-packages (from earthpy) (0.10.2)\n",
            "Requirement already satisfied: numpy>=1.14.0 in /usr/local/lib/python3.7/dist-packages (from earthpy) (1.21.6)\n",
            "Requirement already satisfied: requests in /usr/local/lib/python3.7/dist-packages (from earthpy) (2.23.0)\n",
            "Requirement already satisfied: scikit-image in /usr/local/lib/python3.7/dist-packages (from earthpy) (0.18.3)\n",
            "Requirement already satisfied: matplotlib>=2.0.0 in /usr/local/lib/python3.7/dist-packages (from earthpy) (3.2.2)\n",
            "Collecting rasterio\n",
            "  Downloading rasterio-1.2.10-cp37-cp37m-manylinux1_x86_64.whl (19.3 MB)\n",
            "\u001b[K     |████████████████████████████████| 19.3 MB 119 kB/s \n",
            "\u001b[?25hRequirement already satisfied: cycler>=0.10 in /usr/local/lib/python3.7/dist-packages (from matplotlib>=2.0.0->earthpy) (0.11.0)\n",
            "Requirement already satisfied: pyparsing!=2.0.4,!=2.1.2,!=2.1.6,>=2.0.1 in /usr/local/lib/python3.7/dist-packages (from matplotlib>=2.0.0->earthpy) (3.0.9)\n",
            "Requirement already satisfied: python-dateutil>=2.1 in /usr/local/lib/python3.7/dist-packages (from matplotlib>=2.0.0->earthpy) (2.8.2)\n",
            "Requirement already satisfied: kiwisolver>=1.0.1 in /usr/local/lib/python3.7/dist-packages (from matplotlib>=2.0.0->earthpy) (1.4.4)\n",
            "Requirement already satisfied: typing-extensions in /usr/local/lib/python3.7/dist-packages (from kiwisolver>=1.0.1->matplotlib>=2.0.0->earthpy) (4.1.1)\n",
            "Requirement already satisfied: six>=1.5 in /usr/local/lib/python3.7/dist-packages (from python-dateutil>=2.1->matplotlib>=2.0.0->earthpy) (1.15.0)\n",
            "Requirement already satisfied: shapely>=1.6 in /usr/local/lib/python3.7/dist-packages (from geopandas->earthpy) (1.8.4)\n",
            "Requirement already satisfied: pandas>=0.25.0 in /usr/local/lib/python3.7/dist-packages (from geopandas->earthpy) (1.3.5)\n",
            "Requirement already satisfied: pyproj>=2.2.0 in /usr/local/lib/python3.7/dist-packages (from geopandas->earthpy) (3.2.1)\n",
            "Requirement already satisfied: fiona>=1.8 in /usr/local/lib/python3.7/dist-packages (from geopandas->earthpy) (1.8.21)\n",
            "Requirement already satisfied: attrs>=17 in /usr/local/lib/python3.7/dist-packages (from fiona>=1.8->geopandas->earthpy) (22.1.0)\n",
            "Requirement already satisfied: certifi in /usr/local/lib/python3.7/dist-packages (from fiona>=1.8->geopandas->earthpy) (2022.6.15)\n",
            "Requirement already satisfied: cligj>=0.5 in /usr/local/lib/python3.7/dist-packages (from fiona>=1.8->geopandas->earthpy) (0.7.2)\n",
            "Requirement already satisfied: click>=4.0 in /usr/local/lib/python3.7/dist-packages (from fiona>=1.8->geopandas->earthpy) (7.1.2)\n",
            "Requirement already satisfied: setuptools in /usr/local/lib/python3.7/dist-packages (from fiona>=1.8->geopandas->earthpy) (57.4.0)\n",
            "Requirement already satisfied: click-plugins>=1.0 in /usr/local/lib/python3.7/dist-packages (from fiona>=1.8->geopandas->earthpy) (1.1.1)\n",
            "Requirement already satisfied: munch in /usr/local/lib/python3.7/dist-packages (from fiona>=1.8->geopandas->earthpy) (2.5.0)\n",
            "Requirement already satisfied: pytz>=2017.3 in /usr/local/lib/python3.7/dist-packages (from pandas>=0.25.0->geopandas->earthpy) (2022.2.1)\n",
            "Collecting affine\n",
            "  Downloading affine-2.3.1-py2.py3-none-any.whl (16 kB)\n",
            "Collecting snuggs>=1.4.1\n",
            "  Downloading snuggs-1.4.7-py3-none-any.whl (5.4 kB)\n",
            "Requirement already satisfied: chardet<4,>=3.0.2 in /usr/local/lib/python3.7/dist-packages (from requests->earthpy) (3.0.4)\n",
            "Requirement already satisfied: urllib3!=1.25.0,!=1.25.1,<1.26,>=1.21.1 in /usr/local/lib/python3.7/dist-packages (from requests->earthpy) (1.24.3)\n",
            "Requirement already satisfied: idna<3,>=2.5 in /usr/local/lib/python3.7/dist-packages (from requests->earthpy) (2.10)\n",
            "Requirement already satisfied: scipy>=1.0.1 in /usr/local/lib/python3.7/dist-packages (from scikit-image->earthpy) (1.7.3)\n",
            "Requirement already satisfied: pillow!=7.1.0,!=7.1.1,>=4.3.0 in /usr/local/lib/python3.7/dist-packages (from scikit-image->earthpy) (7.1.2)\n",
            "Requirement already satisfied: networkx>=2.0 in /usr/local/lib/python3.7/dist-packages (from scikit-image->earthpy) (2.6.3)\n",
            "Requirement already satisfied: PyWavelets>=1.1.1 in /usr/local/lib/python3.7/dist-packages (from scikit-image->earthpy) (1.3.0)\n",
            "Requirement already satisfied: imageio>=2.3.0 in /usr/local/lib/python3.7/dist-packages (from scikit-image->earthpy) (2.9.0)\n",
            "Requirement already satisfied: tifffile>=2019.7.26 in /usr/local/lib/python3.7/dist-packages (from scikit-image->earthpy) (2021.11.2)\n",
            "Installing collected packages: snuggs, affine, rasterio, earthpy\n",
            "Successfully installed affine-2.3.1 earthpy-0.9.4 rasterio-1.2.10 snuggs-1.4.7\n",
            "Looking in indexes: https://pypi.org/simple, https://us-python.pkg.dev/colab-wheels/public/simple/\n",
            "Collecting rtree\n",
            "  Downloading Rtree-1.0.0-cp37-cp37m-manylinux_2_17_x86_64.manylinux2014_x86_64.whl (1.0 MB)\n",
            "\u001b[K     |████████████████████████████████| 1.0 MB 7.2 MB/s \n",
            "\u001b[?25hRequirement already satisfied: typing-extensions>=3.7 in /usr/local/lib/python3.7/dist-packages (from rtree) (4.1.1)\n",
            "Installing collected packages: rtree\n",
            "Successfully installed rtree-1.0.0\n",
            "Looking in indexes: https://pypi.org/simple, https://us-python.pkg.dev/colab-wheels/public/simple/\n",
            "Collecting pygeos\n",
            "  Downloading pygeos-0.13-cp37-cp37m-manylinux_2_17_x86_64.manylinux2014_x86_64.whl (2.1 MB)\n",
            "\u001b[K     |████████████████████████████████| 2.1 MB 5.4 MB/s \n",
            "\u001b[?25hRequirement already satisfied: numpy>=1.13 in /usr/local/lib/python3.7/dist-packages (from pygeos) (1.21.6)\n",
            "Installing collected packages: pygeos\n",
            "Successfully installed pygeos-0.13\n"
          ]
        }
      ]
    },
    {
      "cell_type": "code",
      "source": [
        "import os\n",
        "import matplotlib.pyplot as plt\n",
        "import geopandas as gpd\n",
        "import earthpy as et"
      ],
      "metadata": {
        "id": "fxgQBbU3Oxbl"
      },
      "execution_count": 3,
      "outputs": []
    },
    {
      "cell_type": "markdown",
      "metadata": {
        "id": "5sE97xoBAWR4"
      },
      "source": [
        "To begin, set your working directory to earth-analytics and then download a single shapefile. \n",
        "\n",
        "You will start with working with the Natural Earth country boundary lines layer: https://www.naturalearthdata.com/downloads/\n",
        "\n",
        "Note that below you are using EarthPy to download a dataset from naturalearthdata.com (via Amazon Web Services). \n",
        "\n",
        "EarthPy automatically creates the earth-analytics directory for you when you use it, but by default makes this directory in your home directory. We're doing this here because you guys are on PCs.\n",
        "\n",
        "You set the working directory after you download the data as a precaution to ensure that the earth-analytics directory already exists on your computer. This is not a standard order of operations, as we are not using our SU H drive, but we are demonstrating it here to ensure the notebook runs on all computers!"
      ]
    },
    {
      "cell_type": "code",
      "execution_count": 8,
      "metadata": {
        "id": "HX73ilrbAWR5",
        "colab": {
          "base_uri": "https://localhost:8080/"
        },
        "outputId": "17af449a-29ab-4b4b-bf88-ab71d8e5bcf0"
      },
      "outputs": [
        {
          "output_type": "stream",
          "name": "stdout",
          "text": [
            "Downloading from https://naturalearth.s3.amazonaws.com/50m_cultural/ne_50m_admin_0_boundary_lines_land.zip\n",
            "Extracted output to /root/earth-analytics/data/earthpy-downloads/ne_50m_admin_0_boundary_lines_land\n"
          ]
        }
      ],
      "source": [
        "# Download a political boundaries shapefile and set your working directory\n",
        "et.data.get_data(\n",
        "    url='https://naturalearth.s3.amazonaws.com/50m_cultural/ne_50m_admin_0_boundary_lines_land.zip')\n",
        "\n",
        "# Set working directory - earthpy creates earth-analytics for you in your home dir\n",
        "os.chdir(os.path.join(et.io.HOME, 'earth-analytics'))"
      ]
    },
    {
      "cell_type": "markdown",
      "metadata": {
        "id": "p1FhqaeJAWR5"
      },
      "source": [
        "### geopandas\n",
        "Next, you open the data using geopandas. \n",
        "\n",
        "***geopandas*** takes all of the data science magic from the pandas library and makes it compatible with shapfiles.\n",
        "\n",
        "Learn more here: https://geopandas.org/\n",
        "\n",
        "You can view the first 5 rows of the data using .head() in the same way you used .head() for Pandas dataframes.¶"
      ]
    },
    {
      "cell_type": "code",
      "execution_count": 5,
      "metadata": {
        "id": "daU0NJvsAWR6",
        "colab": {
          "base_uri": "https://localhost:8080/"
        },
        "outputId": "7e351537-1b9c-4cb0-f4ab-3e68209aabb2"
      },
      "outputs": [
        {
          "output_type": "stream",
          "name": "stdout",
          "text": [
            "'=2.4.0'   sample_data\n"
          ]
        }
      ],
      "source": [
        "os.getcwd()\n",
        "!ls"
      ]
    },
    {
      "cell_type": "markdown",
      "metadata": {
        "id": "cNBjUKF1AWR7"
      },
      "source": [
        "We're going to download a second dataset, called coastlines:"
      ]
    },
    {
      "cell_type": "code",
      "execution_count": 9,
      "metadata": {
        "id": "im1CUtUbAWR8",
        "colab": {
          "base_uri": "https://localhost:8080/",
          "height": 206
        },
        "outputId": "bc0cbbc2-f929-4aa8-93d4-5f3ad5ecd9da"
      },
      "outputs": [
        {
          "output_type": "execute_result",
          "data": {
            "text/plain": [
              "   scalerank featurecla  min_zoom  \\\n",
              "0          0  Coastline       1.5   \n",
              "1          0  Coastline       4.0   \n",
              "2          0  Coastline       4.0   \n",
              "3          0  Coastline       3.0   \n",
              "4          0  Coastline       4.0   \n",
              "\n",
              "                                            geometry  \n",
              "0  LINESTRING (180.00000 -16.15293, 179.84814 -16...  \n",
              "1  LINESTRING (177.25752 -17.05420, 177.28740 -17...  \n",
              "2  LINESTRING (127.37266 0.79131, 127.35381 0.847...  \n",
              "3  LINESTRING (-81.32231 24.68506, -81.42007 24.7...  \n",
              "4  LINESTRING (-80.79941 24.84629, -80.83887 24.8...  "
            ],
            "text/html": [
              "\n",
              "  <div id=\"df-c65267aa-037c-47db-b05a-489bb5ca886e\">\n",
              "    <div class=\"colab-df-container\">\n",
              "      <div>\n",
              "<style scoped>\n",
              "    .dataframe tbody tr th:only-of-type {\n",
              "        vertical-align: middle;\n",
              "    }\n",
              "\n",
              "    .dataframe tbody tr th {\n",
              "        vertical-align: top;\n",
              "    }\n",
              "\n",
              "    .dataframe thead th {\n",
              "        text-align: right;\n",
              "    }\n",
              "</style>\n",
              "<table border=\"1\" class=\"dataframe\">\n",
              "  <thead>\n",
              "    <tr style=\"text-align: right;\">\n",
              "      <th></th>\n",
              "      <th>scalerank</th>\n",
              "      <th>featurecla</th>\n",
              "      <th>min_zoom</th>\n",
              "      <th>geometry</th>\n",
              "    </tr>\n",
              "  </thead>\n",
              "  <tbody>\n",
              "    <tr>\n",
              "      <th>0</th>\n",
              "      <td>0</td>\n",
              "      <td>Coastline</td>\n",
              "      <td>1.5</td>\n",
              "      <td>LINESTRING (180.00000 -16.15293, 179.84814 -16...</td>\n",
              "    </tr>\n",
              "    <tr>\n",
              "      <th>1</th>\n",
              "      <td>0</td>\n",
              "      <td>Coastline</td>\n",
              "      <td>4.0</td>\n",
              "      <td>LINESTRING (177.25752 -17.05420, 177.28740 -17...</td>\n",
              "    </tr>\n",
              "    <tr>\n",
              "      <th>2</th>\n",
              "      <td>0</td>\n",
              "      <td>Coastline</td>\n",
              "      <td>4.0</td>\n",
              "      <td>LINESTRING (127.37266 0.79131, 127.35381 0.847...</td>\n",
              "    </tr>\n",
              "    <tr>\n",
              "      <th>3</th>\n",
              "      <td>0</td>\n",
              "      <td>Coastline</td>\n",
              "      <td>3.0</td>\n",
              "      <td>LINESTRING (-81.32231 24.68506, -81.42007 24.7...</td>\n",
              "    </tr>\n",
              "    <tr>\n",
              "      <th>4</th>\n",
              "      <td>0</td>\n",
              "      <td>Coastline</td>\n",
              "      <td>4.0</td>\n",
              "      <td>LINESTRING (-80.79941 24.84629, -80.83887 24.8...</td>\n",
              "    </tr>\n",
              "  </tbody>\n",
              "</table>\n",
              "</div>\n",
              "      <button class=\"colab-df-convert\" onclick=\"convertToInteractive('df-c65267aa-037c-47db-b05a-489bb5ca886e')\"\n",
              "              title=\"Convert this dataframe to an interactive table.\"\n",
              "              style=\"display:none;\">\n",
              "        \n",
              "  <svg xmlns=\"http://www.w3.org/2000/svg\" height=\"24px\"viewBox=\"0 0 24 24\"\n",
              "       width=\"24px\">\n",
              "    <path d=\"M0 0h24v24H0V0z\" fill=\"none\"/>\n",
              "    <path d=\"M18.56 5.44l.94 2.06.94-2.06 2.06-.94-2.06-.94-.94-2.06-.94 2.06-2.06.94zm-11 1L8.5 8.5l.94-2.06 2.06-.94-2.06-.94L8.5 2.5l-.94 2.06-2.06.94zm10 10l.94 2.06.94-2.06 2.06-.94-2.06-.94-.94-2.06-.94 2.06-2.06.94z\"/><path d=\"M17.41 7.96l-1.37-1.37c-.4-.4-.92-.59-1.43-.59-.52 0-1.04.2-1.43.59L10.3 9.45l-7.72 7.72c-.78.78-.78 2.05 0 2.83L4 21.41c.39.39.9.59 1.41.59.51 0 1.02-.2 1.41-.59l7.78-7.78 2.81-2.81c.8-.78.8-2.07 0-2.86zM5.41 20L4 18.59l7.72-7.72 1.47 1.35L5.41 20z\"/>\n",
              "  </svg>\n",
              "      </button>\n",
              "      \n",
              "  <style>\n",
              "    .colab-df-container {\n",
              "      display:flex;\n",
              "      flex-wrap:wrap;\n",
              "      gap: 12px;\n",
              "    }\n",
              "\n",
              "    .colab-df-convert {\n",
              "      background-color: #E8F0FE;\n",
              "      border: none;\n",
              "      border-radius: 50%;\n",
              "      cursor: pointer;\n",
              "      display: none;\n",
              "      fill: #1967D2;\n",
              "      height: 32px;\n",
              "      padding: 0 0 0 0;\n",
              "      width: 32px;\n",
              "    }\n",
              "\n",
              "    .colab-df-convert:hover {\n",
              "      background-color: #E2EBFA;\n",
              "      box-shadow: 0px 1px 2px rgba(60, 64, 67, 0.3), 0px 1px 3px 1px rgba(60, 64, 67, 0.15);\n",
              "      fill: #174EA6;\n",
              "    }\n",
              "\n",
              "    [theme=dark] .colab-df-convert {\n",
              "      background-color: #3B4455;\n",
              "      fill: #D2E3FC;\n",
              "    }\n",
              "\n",
              "    [theme=dark] .colab-df-convert:hover {\n",
              "      background-color: #434B5C;\n",
              "      box-shadow: 0px 1px 3px 1px rgba(0, 0, 0, 0.15);\n",
              "      filter: drop-shadow(0px 1px 2px rgba(0, 0, 0, 0.3));\n",
              "      fill: #FFFFFF;\n",
              "    }\n",
              "  </style>\n",
              "\n",
              "      <script>\n",
              "        const buttonEl =\n",
              "          document.querySelector('#df-c65267aa-037c-47db-b05a-489bb5ca886e button.colab-df-convert');\n",
              "        buttonEl.style.display =\n",
              "          google.colab.kernel.accessAllowed ? 'block' : 'none';\n",
              "\n",
              "        async function convertToInteractive(key) {\n",
              "          const element = document.querySelector('#df-c65267aa-037c-47db-b05a-489bb5ca886e');\n",
              "          const dataTable =\n",
              "            await google.colab.kernel.invokeFunction('convertToInteractive',\n",
              "                                                     [key], {});\n",
              "          if (!dataTable) return;\n",
              "\n",
              "          const docLinkHtml = 'Like what you see? Visit the ' +\n",
              "            '<a target=\"_blank\" href=https://colab.research.google.com/notebooks/data_table.ipynb>data table notebook</a>'\n",
              "            + ' to learn more about interactive tables.';\n",
              "          element.innerHTML = '';\n",
              "          dataTable['output_type'] = 'display_data';\n",
              "          await google.colab.output.renderOutput(dataTable, element);\n",
              "          const docLink = document.createElement('div');\n",
              "          docLink.innerHTML = docLinkHtml;\n",
              "          element.appendChild(docLink);\n",
              "        }\n",
              "      </script>\n",
              "    </div>\n",
              "  </div>\n",
              "  "
            ]
          },
          "metadata": {},
          "execution_count": 9
        }
      ],
      "source": [
        "#set URL for the dataset\n",
        "coastlines_url = \"https://naturalearth.s3.amazonaws.com/50m_physical/ne_50m_coastline.zip\"\n",
        "\n",
        "#download the URL into your earth-analytics folder\n",
        "et.data.get_data(url=coastlines_url)\n",
        "\n",
        "#name the filepath relative to your working directory: note this is operating system agnostic\n",
        "coastlines_path = os.path.join(\"data\", \"earthpy-downloads\",\n",
        "                               \"ne_50m_coastline\",\n",
        "                               \"ne_50m_coastline.shp\")\n",
        "\n",
        "#use geopandas as gpd to \"read_file\"\n",
        "coastlines = gpd.read_file(coastlines_path)\n",
        "\n",
        "#prints \"head\" just like pandas!\n",
        "coastlines.head()"
      ]
    },
    {
      "cell_type": "markdown",
      "metadata": {
        "id": "AWVggDwWAWR9"
      },
      "source": [
        "## GeoPandas creates GeoDataFrames \n",
        "The structure of a Geopandas GeoDataFrame is very similar to a Pandas dataframe. This means that all the awesome data wrangling functionality of pandas dataframes can be applied to our spatial vector data as well.\n",
        "\n",
        "### A few differences include:\n",
        "The GeoDataFrame contains a geometry column which stores spatial information. The geometry column in your GeoDataFrame stores the boundary information (the lines that make up each shape in your data). This allows you to plot points, lines or polygons.\n",
        "\n",
        "The GeoDataFrame stores spatial attributes such as coordinate reference systems and spatial extents.\n",
        "\n",
        "Similar to Pandas, you can plot the data using .plot()"
      ]
    },
    {
      "cell_type": "code",
      "execution_count": 11,
      "metadata": {
        "id": "wf3hUYvnAWR-",
        "colab": {
          "base_uri": "https://localhost:8080/",
          "height": 326
        },
        "outputId": "ce5d8e3c-d1a5-49ae-e55e-33eaa0febf5d"
      },
      "outputs": [
        {
          "output_type": "display_data",
          "data": {
            "text/plain": [
              "<Figure size 720x432 with 1 Axes>"
            ],
            "image/png": "[encoded data removed]"
          },
          "metadata": {
            "needs_background": "light"
          }
        }
      ],
      "source": [
        "# Plot the data\n",
        "f, ax1 = plt.subplots(figsize=(10, 6))\n",
        "coastlines.plot(ax=ax1)\n",
        "\n",
        "# Add a title to your plot\n",
        "ax1.set(title=\"Global Coastline Boundaries\")\n",
        "plt.show()"
      ]
    },
    {
      "cell_type": "markdown",
      "metadata": {
        "id": "YiF7ytzZAWR_"
      },
      "source": [
        "### Check the Spatial Vector Data Type\n",
        "You can look at the data to figure out what type of data are stored in the shapefile (points, line or polygons). However, you can also get that information by calling .geom_type"
      ]
    },
    {
      "cell_type": "code",
      "execution_count": 12,
      "metadata": {
        "id": "Xw9ujP22AWR_",
        "colab": {
          "base_uri": "https://localhost:8080/"
        },
        "outputId": "fca2babe-cde4-4179-d381-e4b11f5af56e"
      },
      "outputs": [
        {
          "output_type": "execute_result",
          "data": {
            "text/plain": [
              "0       LineString\n",
              "1       LineString\n",
              "2       LineString\n",
              "3       LineString\n",
              "4       LineString\n",
              "           ...    \n",
              "1423    LineString\n",
              "1424    LineString\n",
              "1425    LineString\n",
              "1426    LineString\n",
              "1427    LineString\n",
              "Length: 1428, dtype: object"
            ]
          },
          "metadata": {},
          "execution_count": 12
        }
      ],
      "source": [
        "# Is the geometry type point, line or polygon?\n",
        "coastlines.geom_type"
      ]
    },
    {
      "cell_type": "markdown",
      "metadata": {
        "id": "0Z3XseEqAWSA"
      },
      "source": [
        "Also similar to Pandas, you can view descriptive information about the GeoDataFrame using .info(). This includes the number of columns, rows and the header name and type of each column.¶"
      ]
    },
    {
      "cell_type": "code",
      "execution_count": 13,
      "metadata": {
        "id": "ZMNnZaOUAWSB",
        "colab": {
          "base_uri": "https://localhost:8080/"
        },
        "outputId": "d8a6705e-d5e2-4a6a-9a33-079aea5ba92d"
      },
      "outputs": [
        {
          "output_type": "stream",
          "name": "stdout",
          "text": [
            "<class 'geopandas.geodataframe.GeoDataFrame'>\n",
            "RangeIndex: 1428 entries, 0 to 1427\n",
            "Data columns (total 4 columns):\n",
            " #   Column      Non-Null Count  Dtype   \n",
            "---  ------      --------------  -----   \n",
            " 0   scalerank   1428 non-null   int64   \n",
            " 1   featurecla  1428 non-null   object  \n",
            " 2   min_zoom    1428 non-null   float64 \n",
            " 3   geometry    1428 non-null   geometry\n",
            "dtypes: float64(1), geometry(1), int64(1), object(1)\n",
            "memory usage: 44.8+ KB\n"
          ]
        }
      ],
      "source": [
        "coastlines.info()"
      ]
    },
    {
      "cell_type": "markdown",
      "metadata": {
        "id": "v6t7ulmJAWSC"
      },
      "source": [
        "### Open point data\n",
        "Next, you will open up another shapefile using Geopandas."
      ]
    },
    {
      "cell_type": "code",
      "execution_count": 14,
      "metadata": {
        "id": "XMCHAAnXAWSC",
        "colab": {
          "base_uri": "https://localhost:8080/"
        },
        "outputId": "04d97a88-1dd4-4aad-da41-90c14be76001"
      },
      "outputs": [
        {
          "output_type": "stream",
          "name": "stdout",
          "text": [
            "Downloading from https://naturalearth.s3.amazonaws.com/50m_cultural/ne_50m_populated_places_simple.zip\n",
            "Extracted output to /root/earth-analytics/data/earthpy-downloads/ne_50m_populated_places_simple\n"
          ]
        }
      ],
      "source": [
        "# Open a second layer\n",
        "et.data.get_data(\n",
        "    url='https://naturalearth.s3.amazonaws.com/50m_cultural/ne_50m_populated_places_simple.zip')\n",
        "\n",
        "# Create a path to the populated places shapefile\n",
        "populated_places_path = os.path.join(\"data\", \"earthpy-downloads\",\n",
        "                                     \"ne_50m_populated_places_simple\",\n",
        "                                     \"ne_50m_populated_places_simple.shp\")\n",
        "\n",
        "#read in a new geopandas data frame called \"cities\"\n",
        "cities = gpd.read_file(populated_places_path)"
      ]
    },
    {
      "cell_type": "markdown",
      "metadata": {
        "id": "cuHhWHjiAWSD"
      },
      "source": [
        "### TASK 1: Is cities a point, line, or polygon file? Type a command to find out and interpret the answer."
      ]
    },
    {
      "cell_type": "code",
      "execution_count": 15,
      "metadata": {
        "id": "e6BEiY2ZAWSD",
        "colab": {
          "base_uri": "https://localhost:8080/"
        },
        "outputId": "70d71d62-2951-4d8a-d7c8-47adec38c561"
      },
      "outputs": [
        {
          "output_type": "execute_result",
          "data": {
            "text/plain": [
              "0       Point\n",
              "1       Point\n",
              "2       Point\n",
              "3       Point\n",
              "4       Point\n",
              "        ...  \n",
              "1246    Point\n",
              "1247    Point\n",
              "1248    Point\n",
              "1249    Point\n",
              "1250    Point\n",
              "Length: 1251, dtype: object"
            ]
          },
          "metadata": {},
          "execution_count": 15
        }
      ],
      "source": [
        "# Task 1 answer here\n",
        "cities.geom_type\n",
        "##Cities is a point file."
      ]
    },
    {
      "cell_type": "markdown",
      "metadata": {
        "id": "lWs792nPAWSD"
      },
      "source": [
        "The attributes for a shapefile imported into a GeoDataFrame can be viewed in the GeoDataFrame itself."
      ]
    },
    {
      "cell_type": "code",
      "execution_count": 16,
      "metadata": {
        "id": "zU47qq6jAWSD",
        "colab": {
          "base_uri": "https://localhost:8080/",
          "height": 341
        },
        "outputId": "40ef300f-e545-4c66-8985-f6198f49fcce"
      },
      "outputs": [
        {
          "output_type": "execute_result",
          "data": {
            "text/plain": [
              "   scalerank  natscale  labelrank              featurecla         name  \\\n",
              "0         10         1          5  Admin-1 region capital        Bombo   \n",
              "1         10         1          5  Admin-1 region capital  Fort Portal   \n",
              "2         10         1          3  Admin-1 region capital      Potenza   \n",
              "\n",
              "  namepar namealt    nameascii  adm0cap  capalt  ... pop_max  pop_min  \\\n",
              "0    None    None        Bombo        0       0  ...   75000    21000   \n",
              "1    None    None  Fort Portal        0       0  ...   42670    42670   \n",
              "2    None    None      Potenza        0       0  ...   69060    69060   \n",
              "\n",
              "   pop_other rank_max rank_min meganame ls_name min_zoom       ne_id  \\\n",
              "0        0.0        8        7     None    None      7.0  1159113923   \n",
              "1        0.0        7        7     None    None      7.0  1159113959   \n",
              "2        0.0        8        8     None    None      7.0  1159117259   \n",
              "\n",
              "                    geometry  \n",
              "0   POINT (32.53330 0.58330)  \n",
              "1   POINT (30.27500 0.67100)  \n",
              "2  POINT (15.79900 40.64200)  \n",
              "\n",
              "[3 rows x 32 columns]"
            ],
            "text/html": [
              "\n",
              "  <div id=\"df-a6bb4cc1-5560-4639-b8b2-237aeaa9f058\">\n",
              "    <div class=\"colab-df-container\">\n",
              "      <div>\n",
              "<style scoped>\n",
              "    .dataframe tbody tr th:only-of-type {\n",
              "        vertical-align: middle;\n",
              "    }\n",
              "\n",
              "    .dataframe tbody tr th {\n",
              "        vertical-align: top;\n",
              "    }\n",
              "\n",
              "    .dataframe thead th {\n",
              "        text-align: right;\n",
              "    }\n",
              "</style>\n",
              "<table border=\"1\" class=\"dataframe\">\n",
              "  <thead>\n",
              "    <tr style=\"text-align: right;\">\n",
              "      <th></th>\n",
              "      <th>scalerank</th>\n",
              "      <th>natscale</th>\n",
              "      <th>labelrank</th>\n",
              "      <th>featurecla</th>\n",
              "      <th>name</th>\n",
              "      <th>namepar</th>\n",
              "      <th>namealt</th>\n",
              "      <th>nameascii</th>\n",
              "      <th>adm0cap</th>\n",
              "      <th>capalt</th>\n",
              "      <th>...</th>\n",
              "      <th>pop_max</th>\n",
              "      <th>pop_min</th>\n",
              "      <th>pop_other</th>\n",
              "      <th>rank_max</th>\n",
              "      <th>rank_min</th>\n",
              "      <th>meganame</th>\n",
              "      <th>ls_name</th>\n",
              "      <th>min_zoom</th>\n",
              "      <th>ne_id</th>\n",
              "      <th>geometry</th>\n",
              "    </tr>\n",
              "  </thead>\n",
              "  <tbody>\n",
              "    <tr>\n",
              "      <th>0</th>\n",
              "      <td>10</td>\n",
              "      <td>1</td>\n",
              "      <td>5</td>\n",
              "      <td>Admin-1 region capital</td>\n",
              "      <td>Bombo</td>\n",
              "      <td>None</td>\n",
              "      <td>None</td>\n",
              "      <td>Bombo</td>\n",
              "      <td>0</td>\n",
              "      <td>0</td>\n",
              "      <td>...</td>\n",
              "      <td>75000</td>\n",
              "      <td>21000</td>\n",
              "      <td>0.0</td>\n",
              "      <td>8</td>\n",
              "      <td>7</td>\n",
              "      <td>None</td>\n",
              "      <td>None</td>\n",
              "      <td>7.0</td>\n",
              "      <td>1159113923</td>\n",
              "      <td>POINT (32.53330 0.58330)</td>\n",
              "    </tr>\n",
              "    <tr>\n",
              "      <th>1</th>\n",
              "      <td>10</td>\n",
              "      <td>1</td>\n",
              "      <td>5</td>\n",
              "      <td>Admin-1 region capital</td>\n",
              "      <td>Fort Portal</td>\n",
              "      <td>None</td>\n",
              "      <td>None</td>\n",
              "      <td>Fort Portal</td>\n",
              "      <td>0</td>\n",
              "      <td>0</td>\n",
              "      <td>...</td>\n",
              "      <td>42670</td>\n",
              "      <td>42670</td>\n",
              "      <td>0.0</td>\n",
              "      <td>7</td>\n",
              "      <td>7</td>\n",
              "      <td>None</td>\n",
              "      <td>None</td>\n",
              "      <td>7.0</td>\n",
              "      <td>1159113959</td>\n",
              "      <td>POINT (30.27500 0.67100)</td>\n",
              "    </tr>\n",
              "    <tr>\n",
              "      <th>2</th>\n",
              "      <td>10</td>\n",
              "      <td>1</td>\n",
              "      <td>3</td>\n",
              "      <td>Admin-1 region capital</td>\n",
              "      <td>Potenza</td>\n",
              "      <td>None</td>\n",
              "      <td>None</td>\n",
              "      <td>Potenza</td>\n",
              "      <td>0</td>\n",
              "      <td>0</td>\n",
              "      <td>...</td>\n",
              "      <td>69060</td>\n",
              "      <td>69060</td>\n",
              "      <td>0.0</td>\n",
              "      <td>8</td>\n",
              "      <td>8</td>\n",
              "      <td>None</td>\n",
              "      <td>None</td>\n",
              "      <td>7.0</td>\n",
              "      <td>1159117259</td>\n",
              "      <td>POINT (15.79900 40.64200)</td>\n",
              "    </tr>\n",
              "  </tbody>\n",
              "</table>\n",
              "<p>3 rows × 32 columns</p>\n",
              "</div>\n",
              "      <button class=\"colab-df-convert\" onclick=\"convertToInteractive('df-a6bb4cc1-5560-4639-b8b2-237aeaa9f058')\"\n",
              "              title=\"Convert this dataframe to an interactive table.\"\n",
              "              style=\"display:none;\">\n",
              "        \n",
              "  <svg xmlns=\"http://www.w3.org/2000/svg\" height=\"24px\"viewBox=\"0 0 24 24\"\n",
              "       width=\"24px\">\n",
              "    <path d=\"M0 0h24v24H0V0z\" fill=\"none\"/>\n",
              "    <path d=\"M18.56 5.44l.94 2.06.94-2.06 2.06-.94-2.06-.94-.94-2.06-.94 2.06-2.06.94zm-11 1L8.5 8.5l.94-2.06 2.06-.94-2.06-.94L8.5 2.5l-.94 2.06-2.06.94zm10 10l.94 2.06.94-2.06 2.06-.94-2.06-.94-.94-2.06-.94 2.06-2.06.94z\"/><path d=\"M17.41 7.96l-1.37-1.37c-.4-.4-.92-.59-1.43-.59-.52 0-1.04.2-1.43.59L10.3 9.45l-7.72 7.72c-.78.78-.78 2.05 0 2.83L4 21.41c.39.39.9.59 1.41.59.51 0 1.02-.2 1.41-.59l7.78-7.78 2.81-2.81c.8-.78.8-2.07 0-2.86zM5.41 20L4 18.59l7.72-7.72 1.47 1.35L5.41 20z\"/>\n",
              "  </svg>\n",
              "      </button>\n",
              "      \n",
              "  <style>\n",
              "    .colab-df-container {\n",
              "      display:flex;\n",
              "      flex-wrap:wrap;\n",
              "      gap: 12px;\n",
              "    }\n",
              "\n",
              "    .colab-df-convert {\n",
              "      background-color: #E8F0FE;\n",
              "      border: none;\n",
              "      border-radius: 50%;\n",
              "      cursor: pointer;\n",
              "      display: none;\n",
              "      fill: #1967D2;\n",
              "      height: 32px;\n",
              "      padding: 0 0 0 0;\n",
              "      width: 32px;\n",
              "    }\n",
              "\n",
              "    .colab-df-convert:hover {\n",
              "      background-color: #E2EBFA;\n",
              "      box-shadow: 0px 1px 2px rgba(60, 64, 67, 0.3), 0px 1px 3px 1px rgba(60, 64, 67, 0.15);\n",
              "      fill: #174EA6;\n",
              "    }\n",
              "\n",
              "    [theme=dark] .colab-df-convert {\n",
              "      background-color: #3B4455;\n",
              "      fill: #D2E3FC;\n",
              "    }\n",
              "\n",
              "    [theme=dark] .colab-df-convert:hover {\n",
              "      background-color: #434B5C;\n",
              "      box-shadow: 0px 1px 3px 1px rgba(0, 0, 0, 0.15);\n",
              "      filter: drop-shadow(0px 1px 2px rgba(0, 0, 0, 0.3));\n",
              "      fill: #FFFFFF;\n",
              "    }\n",
              "  </style>\n",
              "\n",
              "      <script>\n",
              "        const buttonEl =\n",
              "          document.querySelector('#df-a6bb4cc1-5560-4639-b8b2-237aeaa9f058 button.colab-df-convert');\n",
              "        buttonEl.style.display =\n",
              "          google.colab.kernel.accessAllowed ? 'block' : 'none';\n",
              "\n",
              "        async function convertToInteractive(key) {\n",
              "          const element = document.querySelector('#df-a6bb4cc1-5560-4639-b8b2-237aeaa9f058');\n",
              "          const dataTable =\n",
              "            await google.colab.kernel.invokeFunction('convertToInteractive',\n",
              "                                                     [key], {});\n",
              "          if (!dataTable) return;\n",
              "\n",
              "          const docLinkHtml = 'Like what you see? Visit the ' +\n",
              "            '<a target=\"_blank\" href=https://colab.research.google.com/notebooks/data_table.ipynb>data table notebook</a>'\n",
              "            + ' to learn more about interactive tables.';\n",
              "          element.innerHTML = '';\n",
              "          dataTable['output_type'] = 'display_data';\n",
              "          await google.colab.output.renderOutput(dataTable, element);\n",
              "          const docLink = document.createElement('div');\n",
              "          docLink.innerHTML = docLinkHtml;\n",
              "          element.appendChild(docLink);\n",
              "        }\n",
              "      </script>\n",
              "    </div>\n",
              "  </div>\n",
              "  "
            ]
          },
          "metadata": {},
          "execution_count": 16
        }
      ],
      "source": [
        "# View first 5 rows of GeoDataFrame\n",
        "cities.head()\n",
        "cities.head(10)\n",
        "\n",
        "# Experiment! How would you view the first 10 rows of a GeoDataFrame?\n",
        "cities.head(3)"
      ]
    },
    {
      "cell_type": "markdown",
      "metadata": {
        "id": "_4zDORD5AWSE"
      },
      "source": [
        "Just like with Pandas DataFrames, standard arguments can be used to calculate summary statistics on your GeoPandas object:"
      ]
    },
    {
      "cell_type": "code",
      "execution_count": 17,
      "metadata": {
        "id": "nZlzvjoVAWSE",
        "colab": {
          "base_uri": "https://localhost:8080/"
        },
        "outputId": "91373659-bb0a-4d23-9184-4d38fcf8b638"
      },
      "outputs": [
        {
          "output_type": "stream",
          "name": "stdout",
          "text": [
            "0          75000\n",
            "1          42670\n",
            "2          69060\n",
            "3          50762\n",
            "4          34062\n",
            "          ...   \n",
            "1246    11748000\n",
            "1247    18845000\n",
            "1248     4630000\n",
            "1249     5183700\n",
            "1250     7206000\n",
            "Name: pop_max, Length: 1251, dtype: int64\n",
            "scalerank                                  0\n",
            "natscale                                 600\n",
            "labelrank                                  2\n",
            "featurecla                   Admin-0 capital\n",
            "name                                   Tokyo\n",
            "namepar                                 None\n",
            "namealt                                 None\n",
            "nameascii                              Tokyo\n",
            "adm0cap                                    1\n",
            "capalt                                     0\n",
            "capin                        De facto capita\n",
            "worldcity                                  1\n",
            "megacity                                   1\n",
            "sov0name                               Japan\n",
            "sov_a3                                   JPN\n",
            "adm0name                               Japan\n",
            "adm0_a3                                  JPN\n",
            "adm1name                               Tokyo\n",
            "iso_a2                                    JP\n",
            "note                                    None\n",
            "latitude                           35.686963\n",
            "longitude                         139.749462\n",
            "pop_max                             35676000\n",
            "pop_min                              8336599\n",
            "pop_other                         12945252.0\n",
            "rank_max                                  14\n",
            "rank_min                                  13\n",
            "meganame                               Tokyo\n",
            "ls_name                                Tokyo\n",
            "min_zoom                                 1.7\n",
            "ne_id                             1159151609\n",
            "geometry      POINT (139.7494616 35.6869628)\n",
            "Name: 1241, dtype: object\n",
            "The world's largest city  by population is Tokyo with 35676000 people!\n"
          ]
        }
      ],
      "source": [
        "#Let's see what our most populous city is\n",
        "#print out the column with maximum population\n",
        "print(cities.pop_max)\n",
        "print(cities.iloc[cities.pop_max.idxmax()])\n",
        "\n",
        "print(\"The world's largest city  by population is \" + cities.name.iloc[cities.pop_max.idxmax()] + \n",
        "      \" with \" + str(cities.pop_max.max()) + \n",
        "      \" people!\")"
      ]
    },
    {
      "cell_type": "markdown",
      "source": [
        "## Geopandas = geographic pandas data frames\n",
        "The handy thing about working with vector data in geopandas is that you have all of the functionality of pandas at your fingertips. This means that it is easy to do things like:\n",
        "1. Subset your shapefile based on certain crtiera\n",
        "2. Merge your shapefile with other datasets\n",
        "3. Process fields (columns) in your shapefile using python commands.\n",
        "\n",
        "For example, let's say we are conducting a study on megacities. We can easily identify our megacities using the pop_max field, and use that to create a new geopandas DataFrame of only megacities (cities with a population greater than 10 million."
      ],
      "metadata": {
        "id": "bD4altg7ZcY6"
      }
    },
    {
      "cell_type": "code",
      "source": [
        "megacities = cities[cities.pop_max >= 10000000]\n",
        "print(megacities)\n",
        "type(megacities)"
      ],
      "metadata": {
        "id": "RgmN45l7X9x-",
        "colab": {
          "base_uri": "https://localhost:8080/"
        },
        "outputId": "1f737c34-a298-4cb9-ff1e-8dafb9d0ff76"
      },
      "execution_count": 19,
      "outputs": [
        {
          "output_type": "stream",
          "name": "stdout",
          "text": [
            "      scalerank  natscale  labelrank              featurecla            name  \\\n",
            "1097          2       200          2         Admin-1 capital         Karachi   \n",
            "1150          2       200          1         Populated place           Delhi   \n",
            "1177          2       200          2         Admin-0 capital           Dhaka   \n",
            "1203          1       300          5         Admin-0 capital          Manila   \n",
            "1208          1       300          2  Admin-1 region capital           Ōsaka   \n",
            "1218          1       300          3         Admin-0 capital    Buenos Aires   \n",
            "1224          0       600          1         Populated place     Los Angeles   \n",
            "1226          0       600          1         Populated place        New York   \n",
            "1228          0       600          5         Admin-1 capital        Istanbul   \n",
            "1231          0       600          2         Admin-0 capital          Moscow   \n",
            "1232          0       600          2         Admin-0 capital     Mexico City   \n",
            "1235          0       600          1         Admin-0 capital         Beijing   \n",
            "1239          0       600          3         Admin-0 capital           Cairo   \n",
            "1240          0       600          1         Admin-1 capital        Shanghai   \n",
            "1241          0       600          2         Admin-0 capital           Tokyo   \n",
            "1242          0       600          1         Admin-1 capital          Mumbai   \n",
            "1245          0       600          1         Admin-1 capital         Kolkata   \n",
            "1246          0       600          1         Admin-1 capital  Rio de Janeiro   \n",
            "1247          0       600          1         Admin-1 capital       São Paulo   \n",
            "\n",
            "       namepar                           namealt       nameascii  adm0cap  \\\n",
            "1097      None                              None         Karachi        0   \n",
            "1150      None                              None           Delhi        0   \n",
            "1177      None                              None           Dhaka        1   \n",
            "1203      None                              None          Manila        1   \n",
            "1208      None                        Osaka-Kobe           Osaka        0   \n",
            "1218      None                              None    Buenos Aires        1   \n",
            "1224      None  Los Angeles-Long Beach-Santa Ana     Los Angeles        0   \n",
            "1226      None                   New York-Newark        New York        0   \n",
            "1228      None                              None        Istanbul        0   \n",
            "1231    Moskva                              None          Moscow        1   \n",
            "1232      None                       Ciudad de M     Mexico City        1   \n",
            "1235      None                              None         Beijing        1   \n",
            "1239      None                        Al-Qahirah           Cairo        1   \n",
            "1240      None                              None        Shanghai        0   \n",
            "1241      None                              None           Tokyo        1   \n",
            "1242    Bombay                              None          Mumbai        0   \n",
            "1245  Calcutta                              None         Kolkata        0   \n",
            "1246      None                              None  Rio de Janeiro        0   \n",
            "1247      None               Sao Paulo|Sio Paulo       Sao Paulo        0   \n",
            "\n",
            "      capalt  ...   pop_max   pop_min   pop_other rank_max rank_min  \\\n",
            "1097       0  ...  12130000  11624219  11570278.0       14       14   \n",
            "1150       0  ...  15926000   7633213   6747384.0       14       13   \n",
            "1177       0  ...  12797394   7000940  14995538.0       14       13   \n",
            "1203       0  ...  11100000   3077575   2381280.0       14       12   \n",
            "1208       0  ...  11294000   2592413   9630783.0       14       12   \n",
            "1218       0  ...  12795000  10929146  10271457.0       14       14   \n",
            "1224       0  ...  12500000   3694820    142265.0       14       12   \n",
            "1226       0  ...  19040000   8008278   9292603.0       14       13   \n",
            "1228       0  ...  10061000   9945610   9651488.0       14       13   \n",
            "1231       0  ...  10452000  10452000  10585385.0       14       14   \n",
            "1232       0  ...  19028000  10811002  10018444.0       14       14   \n",
            "1235       0  ...  11106000   7480601   9033231.0       14       13   \n",
            "1239       0  ...  11893000   7734614  13720557.0       14       13   \n",
            "1240       0  ...  14987000  14608512  16803572.0       14       14   \n",
            "1241       0  ...  35676000   8336599  12945252.0       14       13   \n",
            "1242       0  ...  18978000  12691836  12426085.0       14       14   \n",
            "1245       0  ...  14787000   4631392   7783716.0       14       12   \n",
            "1246       0  ...  11748000   2010175   1821489.0       14       12   \n",
            "1247       0  ...  18845000  10021295  11522944.0       14       14   \n",
            "\n",
            "                              meganame         ls_name min_zoom       ne_id  \\\n",
            "1097                           Karachi         Karachi      4.0  1159151287   \n",
            "1150                             Delhi           Delhi      4.0  1159151405   \n",
            "1177                             Dhaka           Dhaka      4.0  1159151467   \n",
            "1203                            Manila          Manila      2.7  1159151525   \n",
            "1208                        Osaka-Kobe           Osaka      3.0  1159151537   \n",
            "1218                      Buenos Aires    Buenos Aires      2.1  1159151559   \n",
            "1224  Los Angeles-Long Beach-Santa Ana    Los Angeles1      2.0  1159151569   \n",
            "1226                   New York-Newark        New York      1.7  1159151575   \n",
            "1228                          Istanbul        Istanbul      3.0  1159151579   \n",
            "1231                            Moskva          Moscow      1.7  1159151585   \n",
            "1232                  Ciudad de Mdxico     Mexico City      2.1  1159151587   \n",
            "1235                           Beijing         Beijing      1.7  1159151595   \n",
            "1239                        Al-Qahirah           Cairo      1.7  1159151603   \n",
            "1240                          Shanghai        Shanghai      2.0  1159151605   \n",
            "1241                             Tokyo           Tokyo      1.7  1159151609   \n",
            "1242                            Mumbai          Mumbai      1.7  1159151611   \n",
            "1245                           Kolkata        Calcutta      3.7  1159151617   \n",
            "1246                    Rio de Janeiro  Rio de Janeiro      1.7  1159151619   \n",
            "1247                                 S       Sao Paolo      3.0  1159151621   \n",
            "\n",
            "                         geometry  \n",
            "1097    POINT (66.98806 24.87194)  \n",
            "1150    POINT (77.22806 28.67194)  \n",
            "1177    POINT (90.40663 23.72501)  \n",
            "1203   POINT (120.98027 14.60610)  \n",
            "1208   POINT (135.50375 34.69110)  \n",
            "1218  POINT (-58.43251 -34.61071)  \n",
            "1224  POINT (-118.23199 34.04922)  \n",
            "1226   POINT (-73.99572 40.72156)  \n",
            "1228    POINT (28.97428 41.01760)  \n",
            "1231    POINT (37.61358 55.75411)  \n",
            "1232   POINT (-99.13293 19.44439)  \n",
            "1235   POINT (116.39420 39.90172)  \n",
            "1239    POINT (31.24802 30.05191)  \n",
            "1240   POINT (121.43456 31.21840)  \n",
            "1241   POINT (139.74946 35.68696)  \n",
            "1242    POINT (72.87584 19.06841)  \n",
            "1245    POINT (88.36913 22.56958)  \n",
            "1246  POINT (-43.21212 -22.90731)  \n",
            "1247  POINT (-46.62697 -23.55673)  \n",
            "\n",
            "[19 rows x 32 columns]\n"
          ]
        },
        {
          "output_type": "execute_result",
          "data": {
            "text/plain": [
              "geopandas.geodataframe.GeoDataFrame"
            ]
          },
          "metadata": {},
          "execution_count": 19
        }
      ]
    },
    {
      "cell_type": "markdown",
      "metadata": {
        "id": "fsIQrDG7AWSF"
      },
      "source": [
        "### Creating Maps Using Multiple Shapefiles\n",
        "You can create maps using multiple shapefiles with Geopandas in a similar way that you may do so using a graphical user interface (GUI) tool like ArcGIS or QGIS (open source alternative to ArcGIS). To do this you will need to open a second spatial file. Below you will use the Natural Earth populated places shapefile to add additional layers to your map.\n",
        "\n",
        "To plot two datasets together, you will first create a Matplotlib figure object. Notice in the example below that you define the figure ax1 in the first line. You then tell GeoPandas to plot the data on that particular figure using the parameter ax=\n",
        "\n",
        "The code looks like this:"
      ]
    },
    {
      "cell_type": "code",
      "execution_count": 20,
      "metadata": {
        "id": "sbKWWShmAWSF",
        "colab": {
          "base_uri": "https://localhost:8080/",
          "height": 310
        },
        "outputId": "d63b7c74-46fc-49d2-c7e2-b6c377bac47b"
      },
      "outputs": [
        {
          "output_type": "display_data",
          "data": {
            "text/plain": [
              "<Figure size 720x432 with 1 Axes>"
            ],
            "image/png": "[encoded data removed]"
          },
          "metadata": {
            "needs_background": "light"
          }
        }
      ],
      "source": [
        "#Experiment! \n",
        "#What happens if you change FigSize numbers? \n",
        "#What happens if you \"comment out\" (put a # in front of) plt.show()? \n",
        "#What happens if you change the color?\n",
        "\n",
        "f, ax1 = plt.subplots(figsize=(10, 6))\n",
        "coastlines.plot(ax=ax1,\n",
        "               color = \"black\")\n",
        "plt.show()"
      ]
    },
    {
      "cell_type": "markdown",
      "metadata": {
        "id": "RMXUgNKcAWSG"
      },
      "source": [
        "To add another layer to your map, you can add a second .plot() call and specify the ax= to be ax1 again. This tells Python to layer the two datasets in the same figure."
      ]
    },
    {
      "cell_type": "code",
      "execution_count": 21,
      "metadata": {
        "id": "2lE915VxAWSG",
        "colab": {
          "base_uri": "https://localhost:8080/",
          "height": 334
        },
        "outputId": "0e020538-ca74-49e3-d689-5c3c15619d35"
      },
      "outputs": [
        {
          "output_type": "display_data",
          "data": {
            "text/plain": [
              "<Figure size 720x432 with 1 Axes>"
            ],
            "image/png": "[encoded data removed]"
          },
          "metadata": {
            "needs_background": "light"
          }
        }
      ],
      "source": [
        "# Create a map or plot with two data layers\n",
        "\n",
        "#Experiment! What happens if you remove ax=ax1 from coastlines.plot() and cities.plot()?\n",
        "\n",
        "f, ax1 = plt.subplots(figsize=(10, 6))\n",
        "coastlines.plot(ax=ax1,\n",
        "                color=\"black\")\n",
        "cities.plot(ax=ax1)\n",
        "\n",
        "# Add a title\n",
        "ax1.set(title=\"Map of Cities and Global Lines\")\n",
        "plt.show()"
      ]
    },
    {
      "cell_type": "markdown",
      "metadata": {
        "id": "PJNsynPYAWSG"
      },
      "source": [
        "Learn more about custom plotting in Python:\n",
        "\n",
        "https://www.earthdatascience.org/courses/scientists-guide-to-plotting-data-in-python/plot-spatial-data/customize-vector-plots/python-customize-map-legends-geopandas/\n",
        "\n",
        "https://geopandas.org/gallery/plotting_with_geoplot.html"
      ]
    },
    {
      "cell_type": "markdown",
      "metadata": {
        "id": "nZqRAA7CAWSH"
      },
      "source": [
        "### TASK 2\n",
        "Using the resources above, create a map that contains:\n",
        "1. Coastal lines (black)\n",
        "2. Cities, excluding megacities (points), with a color scale for pop_max\n",
        "3. Megacities (large black points)\n",
        "3. A legend"
      ]
    },
    {
      "cell_type": "code",
      "execution_count": 24,
      "metadata": {
        "id": "wKAakadnAWSH",
        "colab": {
          "base_uri": "https://localhost:8080/",
          "height": 374
        },
        "outputId": "d2d71caf-c5c3-475b-90f8-db0c74f10dae"
      },
      "outputs": [
        {
          "output_type": "display_data",
          "data": {
            "text/plain": [
              "<Figure size 720x432 with 2 Axes>"
            ],
            "image/png": "[encoded data removed]"
          },
          "metadata": {
            "needs_background": "light"
          }
        }
      ],
      "source": [
        "# Format and plot your results from task 2\n",
        "f, ax1 = plt.subplots(figsize=(10, 6))\n",
        "coastlines.plot(ax=ax1,\n",
        "                color=\"black\")\n",
        "small_cities.plot(ax=ax1, column=\"pop_max\", cmap='YlOrRd', legend=True)\n",
        "megacities.plot(ax=ax1, color=\"black\", markersize=100)\n",
        "# Add a title\n",
        "ax1.set(title=\"Map of Cities and Global Lines\")\n",
        "plt.show()\n",
        "# hint:"
      ]
    },
    {
      "cell_type": "markdown",
      "metadata": {
        "id": "RvqqbRFfAWSI"
      },
      "source": [
        "### Geoprocessing Vector Data Geoprocessing in Python: Clip Data\n",
        "Sometimes you have spatial data for a larger area than you need to process. For example you may be working on a project for your state or country. But perhaps you have data for the entire globe.\n",
        "\n",
        "You can clip the data spatially to another boundary to make it smaller. Once the data are clipped, your processing operations will be faster. It will also make creating maps of your study area easier and cleaner.\n",
        "\n",
        "In this workflow, you'll subset your cities data to only look at counties in the United States. First, we'll import a dataset of global political boundaries."
      ]
    },
    {
      "cell_type": "code",
      "execution_count": 25,
      "metadata": {
        "id": "SBQLJxdoAWSJ",
        "colab": {
          "base_uri": "https://localhost:8080/",
          "height": 630
        },
        "outputId": "adc60d20-21b7-4579-e186-b049b2a54d18"
      },
      "outputs": [
        {
          "output_type": "stream",
          "name": "stdout",
          "text": [
            "Downloading from https://naturalearth.s3.amazonaws.com/50m_cultural/ne_50m_admin_0_countries.zip\n",
            "Extracted output to /root/earth-analytics/data/earthpy-downloads/ne_50m_admin_0_countries\n"
          ]
        },
        {
          "output_type": "execute_result",
          "data": {
            "text/plain": [
              "        featurecla  scalerank  LABELRANK SOVEREIGNT SOV_A3  ADM0_DIF  LEVEL  \\\n",
              "0  Admin-0 country          1          3   Zimbabwe    ZWE         0      2   \n",
              "1  Admin-0 country          1          3     Zambia    ZMB         0      2   \n",
              "2  Admin-0 country          1          3      Yemen    YEM         0      2   \n",
              "3  Admin-0 country          3          2    Vietnam    VNM         0      2   \n",
              "4  Admin-0 country          5          3  Venezuela    VEN         0      2   \n",
              "\n",
              "                TYPE TLC      ADMIN  ... FCLASS_TR  FCLASS_ID FCLASS_PL  \\\n",
              "0  Sovereign country   1   Zimbabwe  ...      None       None      None   \n",
              "1  Sovereign country   1     Zambia  ...      None       None      None   \n",
              "2  Sovereign country   1      Yemen  ...      None       None      None   \n",
              "3  Sovereign country   1    Vietnam  ...      None       None      None   \n",
              "4  Sovereign country   1  Venezuela  ...      None       None      None   \n",
              "\n",
              "  FCLASS_GR  FCLASS_IT FCLASS_NL FCLASS_SE  FCLASS_BD FCLASS_UA  \\\n",
              "0      None       None      None      None       None      None   \n",
              "1      None       None      None      None       None      None   \n",
              "2      None       None      None      None       None      None   \n",
              "3      None       None      None      None       None      None   \n",
              "4      None       None      None      None       None      None   \n",
              "\n",
              "                                            geometry  \n",
              "0  POLYGON ((31.28789 -22.40205, 31.19727 -22.344...  \n",
              "1  POLYGON ((30.39609 -15.64307, 30.25068 -15.643...  \n",
              "2  MULTIPOLYGON (((53.08564 16.64839, 52.58145 16...  \n",
              "3  MULTIPOLYGON (((104.06396 10.39082, 104.08301 ...  \n",
              "4  MULTIPOLYGON (((-60.82119 9.13838, -60.94141 9...  \n",
              "\n",
              "[5 rows x 169 columns]"
            ],
            "text/html": [
              "\n",
              "  <div id=\"df-a72190e4-b71b-44c1-a960-fdaab8f3a14e\">\n",
              "    <div class=\"colab-df-container\">\n",
              "      <div>\n",
              "<style scoped>\n",
              "    .dataframe tbody tr th:only-of-type {\n",
              "        vertical-align: middle;\n",
              "    }\n",
              "\n",
              "    .dataframe tbody tr th {\n",
              "        vertical-align: top;\n",
              "    }\n",
              "\n",
              "    .dataframe thead th {\n",
              "        text-align: right;\n",
              "    }\n",
              "</style>\n",
              "<table border=\"1\" class=\"dataframe\">\n",
              "  <thead>\n",
              "    <tr style=\"text-align: right;\">\n",
              "      <th></th>\n",
              "      <th>featurecla</th>\n",
              "      <th>scalerank</th>\n",
              "      <th>LABELRANK</th>\n",
              "      <th>SOVEREIGNT</th>\n",
              "      <th>SOV_A3</th>\n",
              "      <th>ADM0_DIF</th>\n",
              "      <th>LEVEL</th>\n",
              "      <th>TYPE</th>\n",
              "      <th>TLC</th>\n",
              "      <th>ADMIN</th>\n",
              "      <th>...</th>\n",
              "      <th>FCLASS_TR</th>\n",
              "      <th>FCLASS_ID</th>\n",
              "      <th>FCLASS_PL</th>\n",
              "      <th>FCLASS_GR</th>\n",
              "      <th>FCLASS_IT</th>\n",
              "      <th>FCLASS_NL</th>\n",
              "      <th>FCLASS_SE</th>\n",
              "      <th>FCLASS_BD</th>\n",
              "      <th>FCLASS_UA</th>\n",
              "      <th>geometry</th>\n",
              "    </tr>\n",
              "  </thead>\n",
              "  <tbody>\n",
              "    <tr>\n",
              "      <th>0</th>\n",
              "      <td>Admin-0 country</td>\n",
              "      <td>1</td>\n",
              "      <td>3</td>\n",
              "      <td>Zimbabwe</td>\n",
              "      <td>ZWE</td>\n",
              "      <td>0</td>\n",
              "      <td>2</td>\n",
              "      <td>Sovereign country</td>\n",
              "      <td>1</td>\n",
              "      <td>Zimbabwe</td>\n",
              "      <td>...</td>\n",
              "      <td>None</td>\n",
              "      <td>None</td>\n",
              "      <td>None</td>\n",
              "      <td>None</td>\n",
              "      <td>None</td>\n",
              "      <td>None</td>\n",
              "      <td>None</td>\n",
              "      <td>None</td>\n",
              "      <td>None</td>\n",
              "      <td>POLYGON ((31.28789 -22.40205, 31.19727 -22.344...</td>\n",
              "    </tr>\n",
              "    <tr>\n",
              "      <th>1</th>\n",
              "      <td>Admin-0 country</td>\n",
              "      <td>1</td>\n",
              "      <td>3</td>\n",
              "      <td>Zambia</td>\n",
              "      <td>ZMB</td>\n",
              "      <td>0</td>\n",
              "      <td>2</td>\n",
              "      <td>Sovereign country</td>\n",
              "      <td>1</td>\n",
              "      <td>Zambia</td>\n",
              "      <td>...</td>\n",
              "      <td>None</td>\n",
              "      <td>None</td>\n",
              "      <td>None</td>\n",
              "      <td>None</td>\n",
              "      <td>None</td>\n",
              "      <td>None</td>\n",
              "      <td>None</td>\n",
              "      <td>None</td>\n",
              "      <td>None</td>\n",
              "      <td>POLYGON ((30.39609 -15.64307, 30.25068 -15.643...</td>\n",
              "    </tr>\n",
              "    <tr>\n",
              "      <th>2</th>\n",
              "      <td>Admin-0 country</td>\n",
              "      <td>1</td>\n",
              "      <td>3</td>\n",
              "      <td>Yemen</td>\n",
              "      <td>YEM</td>\n",
              "      <td>0</td>\n",
              "      <td>2</td>\n",
              "      <td>Sovereign country</td>\n",
              "      <td>1</td>\n",
              "      <td>Yemen</td>\n",
              "      <td>...</td>\n",
              "      <td>None</td>\n",
              "      <td>None</td>\n",
              "      <td>None</td>\n",
              "      <td>None</td>\n",
              "      <td>None</td>\n",
              "      <td>None</td>\n",
              "      <td>None</td>\n",
              "      <td>None</td>\n",
              "      <td>None</td>\n",
              "      <td>MULTIPOLYGON (((53.08564 16.64839, 52.58145 16...</td>\n",
              "    </tr>\n",
              "    <tr>\n",
              "      <th>3</th>\n",
              "      <td>Admin-0 country</td>\n",
              "      <td>3</td>\n",
              "      <td>2</td>\n",
              "      <td>Vietnam</td>\n",
              "      <td>VNM</td>\n",
              "      <td>0</td>\n",
              "      <td>2</td>\n",
              "      <td>Sovereign country</td>\n",
              "      <td>1</td>\n",
              "      <td>Vietnam</td>\n",
              "      <td>...</td>\n",
              "      <td>None</td>\n",
              "      <td>None</td>\n",
              "      <td>None</td>\n",
              "      <td>None</td>\n",
              "      <td>None</td>\n",
              "      <td>None</td>\n",
              "      <td>None</td>\n",
              "      <td>None</td>\n",
              "      <td>None</td>\n",
              "      <td>MULTIPOLYGON (((104.06396 10.39082, 104.08301 ...</td>\n",
              "    </tr>\n",
              "    <tr>\n",
              "      <th>4</th>\n",
              "      <td>Admin-0 country</td>\n",
              "      <td>5</td>\n",
              "      <td>3</td>\n",
              "      <td>Venezuela</td>\n",
              "      <td>VEN</td>\n",
              "      <td>0</td>\n",
              "      <td>2</td>\n",
              "      <td>Sovereign country</td>\n",
              "      <td>1</td>\n",
              "      <td>Venezuela</td>\n",
              "      <td>...</td>\n",
              "      <td>None</td>\n",
              "      <td>None</td>\n",
              "      <td>None</td>\n",
              "      <td>None</td>\n",
              "      <td>None</td>\n",
              "      <td>None</td>\n",
              "      <td>None</td>\n",
              "      <td>None</td>\n",
              "      <td>None</td>\n",
              "      <td>MULTIPOLYGON (((-60.82119 9.13838, -60.94141 9...</td>\n",
              "    </tr>\n",
              "  </tbody>\n",
              "</table>\n",
              "<p>5 rows × 169 columns</p>\n",
              "</div>\n",
              "      <button class=\"colab-df-convert\" onclick=\"convertToInteractive('df-a72190e4-b71b-44c1-a960-fdaab8f3a14e')\"\n",
              "              title=\"Convert this dataframe to an interactive table.\"\n",
              "              style=\"display:none;\">\n",
              "        \n",
              "  <svg xmlns=\"http://www.w3.org/2000/svg\" height=\"24px\"viewBox=\"0 0 24 24\"\n",
              "       width=\"24px\">\n",
              "    <path d=\"M0 0h24v24H0V0z\" fill=\"none\"/>\n",
              "    <path d=\"M18.56 5.44l.94 2.06.94-2.06 2.06-.94-2.06-.94-.94-2.06-.94 2.06-2.06.94zm-11 1L8.5 8.5l.94-2.06 2.06-.94-2.06-.94L8.5 2.5l-.94 2.06-2.06.94zm10 10l.94 2.06.94-2.06 2.06-.94-2.06-.94-.94-2.06-.94 2.06-2.06.94z\"/><path d=\"M17.41 7.96l-1.37-1.37c-.4-.4-.92-.59-1.43-.59-.52 0-1.04.2-1.43.59L10.3 9.45l-7.72 7.72c-.78.78-.78 2.05 0 2.83L4 21.41c.39.39.9.59 1.41.59.51 0 1.02-.2 1.41-.59l7.78-7.78 2.81-2.81c.8-.78.8-2.07 0-2.86zM5.41 20L4 18.59l7.72-7.72 1.47 1.35L5.41 20z\"/>\n",
              "  </svg>\n",
              "      </button>\n",
              "      \n",
              "  <style>\n",
              "    .colab-df-container {\n",
              "      display:flex;\n",
              "      flex-wrap:wrap;\n",
              "      gap: 12px;\n",
              "    }\n",
              "\n",
              "    .colab-df-convert {\n",
              "      background-color: #E8F0FE;\n",
              "      border: none;\n",
              "      border-radius: 50%;\n",
              "      cursor: pointer;\n",
              "      display: none;\n",
              "      fill: #1967D2;\n",
              "      height: 32px;\n",
              "      padding: 0 0 0 0;\n",
              "      width: 32px;\n",
              "    }\n",
              "\n",
              "    .colab-df-convert:hover {\n",
              "      background-color: #E2EBFA;\n",
              "      box-shadow: 0px 1px 2px rgba(60, 64, 67, 0.3), 0px 1px 3px 1px rgba(60, 64, 67, 0.15);\n",
              "      fill: #174EA6;\n",
              "    }\n",
              "\n",
              "    [theme=dark] .colab-df-convert {\n",
              "      background-color: #3B4455;\n",
              "      fill: #D2E3FC;\n",
              "    }\n",
              "\n",
              "    [theme=dark] .colab-df-convert:hover {\n",
              "      background-color: #434B5C;\n",
              "      box-shadow: 0px 1px 3px 1px rgba(0, 0, 0, 0.15);\n",
              "      filter: drop-shadow(0px 1px 2px rgba(0, 0, 0, 0.3));\n",
              "      fill: #FFFFFF;\n",
              "    }\n",
              "  </style>\n",
              "\n",
              "      <script>\n",
              "        const buttonEl =\n",
              "          document.querySelector('#df-a72190e4-b71b-44c1-a960-fdaab8f3a14e button.colab-df-convert');\n",
              "        buttonEl.style.display =\n",
              "          google.colab.kernel.accessAllowed ? 'block' : 'none';\n",
              "\n",
              "        async function convertToInteractive(key) {\n",
              "          const element = document.querySelector('#df-a72190e4-b71b-44c1-a960-fdaab8f3a14e');\n",
              "          const dataTable =\n",
              "            await google.colab.kernel.invokeFunction('convertToInteractive',\n",
              "                                                     [key], {});\n",
              "          if (!dataTable) return;\n",
              "\n",
              "          const docLinkHtml = 'Like what you see? Visit the ' +\n",
              "            '<a target=\"_blank\" href=https://colab.research.google.com/notebooks/data_table.ipynb>data table notebook</a>'\n",
              "            + ' to learn more about interactive tables.';\n",
              "          element.innerHTML = '';\n",
              "          dataTable['output_type'] = 'display_data';\n",
              "          await google.colab.output.renderOutput(dataTable, element);\n",
              "          const docLink = document.createElement('div');\n",
              "          docLink.innerHTML = docLinkHtml;\n",
              "          element.appendChild(docLink);\n",
              "        }\n",
              "      </script>\n",
              "    </div>\n",
              "  </div>\n",
              "  "
            ]
          },
          "metadata": {},
          "execution_count": 25
        }
      ],
      "source": [
        "country_data_url = \"https://naturalearth.s3.amazonaws.com/50m_cultural/ne_50m_admin_0_countries.zip\"\n",
        "et.data.get_data(url=country_data_url)\n",
        "\n",
        "# Create a path to the countries shapefile\n",
        "countries_path = os.path.join(\"data\", \"earthpy-downloads\",\n",
        "                              \"ne_50m_admin_0_countries\", \n",
        "                              \"ne_50m_admin_0_countries.shp\")\n",
        "\n",
        "# Read in the countries shapefile as GeoPandas dataframe\n",
        "countries = gpd.read_file(countries_path)\n",
        "\n",
        "# View attribute table:\n",
        "countries.head()"
      ]
    },
    {
      "cell_type": "code",
      "execution_count": 26,
      "metadata": {
        "id": "UlWM-PnWAWSJ",
        "colab": {
          "base_uri": "https://localhost:8080/",
          "height": 317
        },
        "outputId": "6ffd9978-f184-4185-a895-924a63102546"
      },
      "outputs": [
        {
          "output_type": "display_data",
          "data": {
            "text/plain": [
              "<Figure size 720x432 with 1 Axes>"
            ],
            "image/png": "[encoded data removed]"
          },
          "metadata": {
            "needs_background": "light"
          }
        }
      ],
      "source": [
        "f, ax = plt.subplots(figsize=(10, 6))\n",
        "countries.plot(ax=ax)\n",
        "plt.show()"
      ]
    },
    {
      "cell_type": "markdown",
      "metadata": {
        "id": "46TuC7lPAWSK"
      },
      "source": [
        "### Next, we'll use built-in pandas funcitonality to subset the shapefile to just the US boundary"
      ]
    },
    {
      "cell_type": "code",
      "execution_count": 27,
      "metadata": {
        "id": "WMmfKI3TAWSK",
        "colab": {
          "base_uri": "https://localhost:8080/",
          "height": 200
        },
        "outputId": "3ee615b6-9c5b-4be4-c482-768054ac5fb1"
      },
      "outputs": [
        {
          "output_type": "display_data",
          "data": {
            "text/plain": [
              "<Figure size 720x432 with 1 Axes>"
            ],
            "image/png": "[encoded data removed]"
          },
          "metadata": {
            "needs_background": "light"
          }
        }
      ],
      "source": [
        "# Subset the countries data to just a single country\n",
        "united_states_boundary = countries.loc[countries['SOVEREIGNT']\n",
        "                                       == 'United States of America']\n",
        "\n",
        "# Notice in the plot below, that only the boundary for the USA is in the new variable\n",
        "f, ax = plt.subplots(figsize=(10, 6))\n",
        "united_states_boundary.plot(ax=ax)\n",
        "plt.show()"
      ]
    },
    {
      "cell_type": "markdown",
      "metadata": {
        "id": "sz7Xo5MWAWSL"
      },
      "source": [
        "### Now, we'll subset the cities layer to include only records which overlap in space with the united_states_boundary layer (aka are in the United States)"
      ]
    },
    {
      "cell_type": "code",
      "execution_count": 28,
      "metadata": {
        "id": "EiVaflFIAWSL",
        "colab": {
          "base_uri": "https://localhost:8080/",
          "height": 167
        },
        "outputId": "b132d6ff-3f71-43d3-ad93-af29cef47921"
      },
      "outputs": [
        {
          "output_type": "display_data",
          "data": {
            "text/plain": [
              "<Figure size 432x288 with 1 Axes>"
            ],
            "image/png": "[encoded data removed]"
          },
          "metadata": {
            "needs_background": "light"
          }
        }
      ],
      "source": [
        "# Clip the cities data to the USA boundary\n",
        "# Note -- this operation may take some time to run - be patient\n",
        "cities_in_usa = gpd.clip(cities, united_states_boundary)\n",
        "\n",
        "# Plot your final clipped data\n",
        "f, ax = plt.subplots()\n",
        "cities_in_usa.plot(ax=ax)\n",
        "ax.set(title=\"Cities clipped to the USA Boundary\")\n",
        "plt.show()"
      ]
    },
    {
      "cell_type": "markdown",
      "source": [
        "## TASK 3: How many cities are in the United States?"
      ],
      "metadata": {
        "id": "9s4e3Ll4cSPn"
      }
    },
    {
      "cell_type": "code",
      "source": [
        "# Task 3 code here\n",
        "#print(cities_in_usa)\n",
        "len(cities_in_usa)"
      ],
      "metadata": {
        "id": "5cfuchoecP6T",
        "colab": {
          "base_uri": "https://localhost:8080/"
        },
        "outputId": "527c0159-3094-47f2-ded8-ac03f57f5856"
      },
      "execution_count": 29,
      "outputs": [
        {
          "output_type": "execute_result",
          "data": {
            "text/plain": [
              "106"
            ]
          },
          "metadata": {},
          "execution_count": 29
        }
      ]
    },
    {
      "cell_type": "markdown",
      "metadata": {
        "id": "vC497LtLAWSM"
      },
      "source": [
        "## TASK 4: What is the largest city in the United States? What is the population of that city?\n"
      ]
    },
    {
      "cell_type": "code",
      "execution_count": 30,
      "metadata": {
        "id": "nXb-CVCjAWSM",
        "colab": {
          "base_uri": "https://localhost:8080/"
        },
        "outputId": "d8c9c09e-2a8d-4a45-abea-860f145d9cb3"
      },
      "outputs": [
        {
          "output_type": "stream",
          "name": "stdout",
          "text": [
            "The largest city in the US by population isLos Angeleswith12500000people\n"
          ]
        }
      ],
      "source": [
        "#Task 4 code here\n",
        "idx=cities_in_usa.pop_max.idxmax()\n",
        "name=cities_in_usa.name[idx]\n",
        "pop=cities_in_usa.pop_max[idx]\n",
        "print(\"The largest city in the US by population is\"  +name+ \"with\" + str(pop)+ \"people\")"
      ]
    },
    {
      "cell_type": "markdown",
      "source": [
        "## Merging vector data in geopandas\n",
        "One of our primary goals using geographic information systems (GIS) software in Environmental Data Science is to collocate information from different sources into a single analaysis-ready dataset. When we're working with vector data, this often means adding new columns to a geopandas dataframe containing values from another dataset. \n",
        "\n",
        "There are two ways to combine datasets in geopandas – attribute joins and spatial joins. [From Geopandas.org](https://geopandas.org/en/v0.8.2/mergingdata.html)\n",
        "\n",
        "*   **Attribute joins:** a GeoSeries or GeoDataFrame is combined with a regular pandas Series or DataFrame based on a common variable. This is analogous to normal merging or joining in pandas.\n",
        "\n",
        "*   **Spatial joins:** a Spatial Join, observations from two GeoSeries or GeoDataFrames are combined based on their spatial relationship to one another.Indented block\n",
        "\n",
        "First, we'll bring in another dataset of countries:\n"
      ],
      "metadata": {
        "id": "CUH9oYodc47X"
      }
    },
    {
      "cell_type": "code",
      "source": [
        "# read in country shapefile from the geopandas datasets collection\n",
        "world = gpd.read_file(gpd.datasets.get_path('naturalearth_lowres'))\n",
        "print(world)"
      ],
      "metadata": {
        "id": "hqofNW42cmkI",
        "colab": {
          "base_uri": "https://localhost:8080/"
        },
        "outputId": "c8a69c96-066f-488c-e128-1add709fc2ce"
      },
      "execution_count": 31,
      "outputs": [
        {
          "output_type": "stream",
          "name": "stdout",
          "text": [
            "       pop_est      continent                      name iso_a3  gdp_md_est  \\\n",
            "0       920938        Oceania                      Fiji    FJI      8374.0   \n",
            "1     53950935         Africa                  Tanzania    TZA    150600.0   \n",
            "2       603253         Africa                 W. Sahara    ESH       906.5   \n",
            "3     35623680  North America                    Canada    CAN   1674000.0   \n",
            "4    326625791  North America  United States of America    USA  18560000.0   \n",
            "..         ...            ...                       ...    ...         ...   \n",
            "172    7111024         Europe                    Serbia    SRB    101800.0   \n",
            "173     642550         Europe                Montenegro    MNE     10610.0   \n",
            "174    1895250         Europe                    Kosovo    -99     18490.0   \n",
            "175    1218208  North America       Trinidad and Tobago    TTO     43570.0   \n",
            "176   13026129         Africa                  S. Sudan    SSD     20880.0   \n",
            "\n",
            "                                              geometry  \n",
            "0    MULTIPOLYGON (((180.00000 -16.06713, 180.00000...  \n",
            "1    POLYGON ((33.90371 -0.95000, 34.07262 -1.05982...  \n",
            "2    POLYGON ((-8.66559 27.65643, -8.66512 27.58948...  \n",
            "3    MULTIPOLYGON (((-122.84000 49.00000, -122.9742...  \n",
            "4    MULTIPOLYGON (((-122.84000 49.00000, -120.0000...  \n",
            "..                                                 ...  \n",
            "172  POLYGON ((18.82982 45.90887, 18.82984 45.90888...  \n",
            "173  POLYGON ((20.07070 42.58863, 19.80161 42.50009...  \n",
            "174  POLYGON ((20.59025 41.85541, 20.52295 42.21787...  \n",
            "175  POLYGON ((-61.68000 10.76000, -61.10500 10.890...  \n",
            "176  POLYGON ((30.83385 3.50917, 29.95350 4.17370, ...  \n",
            "\n",
            "[177 rows x 6 columns]\n"
          ]
        }
      ]
    },
    {
      "cell_type": "markdown",
      "source": [
        "Let's say we want to add the \"continent\" field (column) in the world geodataframe to the cities dataframe. Using an attribute join, we first find two columns that contain the same values:"
      ],
      "metadata": {
        "id": "8Lbpg8J2gZTW"
      }
    },
    {
      "cell_type": "code",
      "source": [
        "print(sorted(world.iso_a3.unique()))\n",
        "print(sorted(cities.sov_a3.unique()))\n",
        "print(\"There are \" + str(len(world.iso_a3.unique()))+ \" unique country codes in the world dataset\")\n",
        "print(\"There are \" + str(len(cities.sov_a3.unique()))+ \" unique country codes in the city dataset\") "
      ],
      "metadata": {
        "id": "vNJfea09gVcV",
        "colab": {
          "base_uri": "https://localhost:8080/"
        },
        "outputId": "edaf11a8-7df4-487c-a4c7-e2d097c3bfb7"
      },
      "execution_count": 32,
      "outputs": [
        {
          "output_type": "stream",
          "name": "stdout",
          "text": [
            "['-99', 'AFG', 'AGO', 'ALB', 'ARE', 'ARG', 'ARM', 'ATA', 'ATF', 'AUS', 'AUT', 'AZE', 'BDI', 'BEL', 'BEN', 'BFA', 'BGD', 'BGR', 'BHS', 'BIH', 'BLR', 'BLZ', 'BOL', 'BRA', 'BRN', 'BTN', 'BWA', 'CAF', 'CAN', 'CHE', 'CHL', 'CHN', 'CIV', 'CMR', 'COD', 'COG', 'COL', 'CRI', 'CUB', 'CYP', 'CZE', 'DEU', 'DJI', 'DNK', 'DOM', 'DZA', 'ECU', 'EGY', 'ERI', 'ESH', 'ESP', 'EST', 'ETH', 'FIN', 'FJI', 'FLK', 'GAB', 'GBR', 'GEO', 'GHA', 'GIN', 'GMB', 'GNB', 'GNQ', 'GRC', 'GRL', 'GTM', 'GUY', 'HND', 'HRV', 'HTI', 'HUN', 'IDN', 'IND', 'IRL', 'IRN', 'IRQ', 'ISL', 'ISR', 'ITA', 'JAM', 'JOR', 'JPN', 'KAZ', 'KEN', 'KGZ', 'KHM', 'KOR', 'KWT', 'LAO', 'LBN', 'LBR', 'LBY', 'LKA', 'LSO', 'LTU', 'LUX', 'LVA', 'MAR', 'MDA', 'MDG', 'MEX', 'MKD', 'MLI', 'MMR', 'MNE', 'MNG', 'MOZ', 'MRT', 'MWI', 'MYS', 'NAM', 'NCL', 'NER', 'NGA', 'NIC', 'NLD', 'NPL', 'NZL', 'OMN', 'PAK', 'PAN', 'PER', 'PHL', 'PNG', 'POL', 'PRI', 'PRK', 'PRT', 'PRY', 'PSE', 'QAT', 'ROU', 'RUS', 'RWA', 'SAU', 'SDN', 'SEN', 'SLB', 'SLE', 'SLV', 'SOM', 'SRB', 'SSD', 'SUR', 'SVK', 'SVN', 'SWE', 'SWZ', 'SYR', 'TCD', 'TGO', 'THA', 'TJK', 'TKM', 'TLS', 'TTO', 'TUN', 'TUR', 'TWN', 'TZA', 'UGA', 'UKR', 'URY', 'USA', 'UZB', 'VEN', 'VNM', 'VUT', 'YEM', 'ZAF', 'ZMB', 'ZWE']\n",
            "['AFG', 'AGO', 'ALB', 'ALD', 'AND', 'ARE', 'ARG', 'ARM', 'ATA', 'ATG', 'AUS', 'AUT', 'AZE', 'BDI', 'BEL', 'BEN', 'BFA', 'BGD', 'BGR', 'BHR', 'BHS', 'BIH', 'BLR', 'BLZ', 'BOL', 'BRA', 'BRB', 'BRN', 'BTN', 'BWA', 'CAF', 'CAN', 'CHE', 'CHL', 'CHN', 'CIV', 'CMR', 'COD', 'COG', 'COL', 'COM', 'CPV', 'CRI', 'CUB', 'CYP', 'CZE', 'DEU', 'DJI', 'DMA', 'DNK', 'DOM', 'DZA', 'ECU', 'EGY', 'ERI', 'ESP', 'EST', 'ETH', 'FIN', 'FJI', 'FRA', 'FSM', 'GAB', 'GBR', 'GEO', 'GHA', 'GIN', 'GMB', 'GNB', 'GNQ', 'GRC', 'GRD', 'GTM', 'GUY', 'HND', 'HRV', 'HTI', 'HUN', 'IDN', 'IND', 'IRL', 'IRN', 'IRQ', 'IS1', 'ISL', 'ITA', 'JAM', 'JOR', 'JPN', 'KAZ', 'KEN', 'KGZ', 'KHM', 'KIR', 'KNA', 'KOR', 'KOS', 'KWT', 'LAO', 'LBN', 'LBR', 'LBY', 'LCA', 'LIE', 'LKA', 'LSO', 'LTU', 'LUX', 'LVA', 'MAR', 'MCO', 'MDA', 'MDG', 'MDV', 'MEX', 'MHL', 'MKD', 'MLI', 'MLT', 'MMR', 'MNE', 'MNG', 'MOZ', 'MRT', 'MUS', 'MWI', 'MYS', 'NAM', 'NER', 'NGA', 'NIC', 'NLD', 'NOR', 'NPL', 'NZL', 'OMN', 'PAK', 'PAN', 'PER', 'PHL', 'PLW', 'PNG', 'POL', 'PRK', 'PRT', 'PRY', 'QAT', 'ROU', 'RUS', 'RWA', 'SAH', 'SAU', 'SDN', 'SEN', 'SGP', 'SLB', 'SLE', 'SLV', 'SMR', 'SOL', 'SOM', 'SRB', 'SSD', 'STP', 'SUR', 'SVK', 'SVN', 'SWE', 'SWZ', 'SYC', 'SYR', 'TCD', 'TGO', 'THA', 'TJK', 'TKM', 'TLS', 'TON', 'TTO', 'TUN', 'TUR', 'TUV', 'TWN', 'TZA', 'UGA', 'UKR', 'URY', 'USA', 'UZB', 'VAT', 'VCT', 'VEN', 'VNM', 'VUT', 'WSM', 'YEM', 'ZAF', 'ZMB', 'ZWE']\n",
            "There are 173 unique country codes in the world dataset\n",
            "There are 199 unique country codes in the city dataset\n"
          ]
        }
      ]
    },
    {
      "cell_type": "markdown",
      "source": [
        "We do not have continent data for all of the countries represented in the city database, but we have some!"
      ],
      "metadata": {
        "id": "BSyYd4DIkpyt"
      }
    },
    {
      "cell_type": "code",
      "source": [
        "# First, we'll make a new pandas dataframe containing only the  iso_a3, and continent information:\n",
        "continents = world[['iso_a3', 'continent']]"
      ],
      "metadata": {
        "id": "SEtpsbkvkncQ"
      },
      "execution_count": 33,
      "outputs": []
    },
    {
      "cell_type": "code",
      "source": [
        "# Then, we'll merge this data to the cities dataset:\n",
        "cities = cities.merge(continents, left_on='sov_a3', right_on='iso_a3')\n",
        "\n",
        "# Is cities still a geopandas dataframe?\n",
        "type(cities)\n",
        "\n",
        "#On what continents do we have cities?\n",
        "cities.continent.unique()"
      ],
      "metadata": {
        "id": "yVRmCKVQkQFW",
        "colab": {
          "base_uri": "https://localhost:8080/"
        },
        "outputId": "e0cbceb2-c694-400d-fef5-a36c35c31ec4"
      },
      "execution_count": 34,
      "outputs": [
        {
          "output_type": "execute_result",
          "data": {
            "text/plain": [
              "array(['Africa', 'Europe', 'Antarctica', 'Asia', 'North America',\n",
              "       'South America', 'Oceania'], dtype=object)"
            ]
          },
          "metadata": {},
          "execution_count": 34
        }
      ]
    },
    {
      "cell_type": "markdown",
      "source": [
        "A spatial join involves fusing two datasets based on the euclidian distances calculated between feature locations.\n",
        "\n",
        "\n",
        "Sjoin Arguments\n",
        "\n",
        "`sjoin()` has two core arguments: how and op.\n",
        "\n",
        "**op**\n",
        "\n",
        "The op argument specifies how geopandas decides whether or not to join the attributes of one object to another. There are three different join options as follows:\n",
        "\n",
        "    intersects: The attributes will be joined if the boundary and interior of the object intersect in any way with the boundary and/or interior of the other object.\n",
        "\n",
        "    within: The attributes will be joined if the object’s boundary and interior intersect only with the interior of the other object (not its boundary or exterior).\n",
        "\n",
        "    contains: The attributes will be joined if the object’s interior contains the boundary and interior of the other object and their boundaries do not touch at all.\n",
        "\n",
        "You can read more about each join type in the Shapely documentation.\n",
        "\n",
        "**how**\n",
        "\n",
        "The how argument specifies the type of join that will occur and which geometry is retained in the resultant geodataframe. It accepts the following options:\n",
        "\n",
        "    left: use the index from the first (or left_df) geodataframe that you provide to sjoin; retain only the left_df geometry column\n",
        "\n",
        "    right: use index from second (or right_df); retain only the right_df geometry column\n",
        "\n",
        "    inner: use intersection of index values from both geodataframes; retain only the left_df geometry column\n",
        "\n",
        "Note more complicated spatial relationships can be studied by combining geometric operations with spatial join. To find all polygons within a given distance of a point, for example, one can first use the buffer method to expand each point into a circle of appropriate radius, then intersect those buffered circles with the polygons in question.\n"
      ],
      "metadata": {
        "id": "KFSeBixZmB9c"
      }
    },
    {
      "cell_type": "code",
      "source": [
        "# Create a countries shapefile with only one attribute (column), called 'name':\n",
        "countries = world[['geometry', 'name']]\n",
        "countries.head()\n"
      ],
      "metadata": {
        "id": "6ptYDRH6mBnf",
        "colab": {
          "base_uri": "https://localhost:8080/",
          "height": 206
        },
        "outputId": "471c4078-8ef9-48a7-d837-ac03a4a4d0cd"
      },
      "execution_count": 35,
      "outputs": [
        {
          "output_type": "execute_result",
          "data": {
            "text/plain": [
              "                                            geometry                      name\n",
              "0  MULTIPOLYGON (((180.00000 -16.06713, 180.00000...                      Fiji\n",
              "1  POLYGON ((33.90371 -0.95000, 34.07262 -1.05982...                  Tanzania\n",
              "2  POLYGON ((-8.66559 27.65643, -8.66512 27.58948...                 W. Sahara\n",
              "3  MULTIPOLYGON (((-122.84000 49.00000, -122.9742...                    Canada\n",
              "4  MULTIPOLYGON (((-122.84000 49.00000, -120.0000...  United States of America"
            ],
            "text/html": [
              "\n",
              "  <div id=\"df-14509ad7-7e1e-4cea-acce-88790b2be12b\">\n",
              "    <div class=\"colab-df-container\">\n",
              "      <div>\n",
              "<style scoped>\n",
              "    .dataframe tbody tr th:only-of-type {\n",
              "        vertical-align: middle;\n",
              "    }\n",
              "\n",
              "    .dataframe tbody tr th {\n",
              "        vertical-align: top;\n",
              "    }\n",
              "\n",
              "    .dataframe thead th {\n",
              "        text-align: right;\n",
              "    }\n",
              "</style>\n",
              "<table border=\"1\" class=\"dataframe\">\n",
              "  <thead>\n",
              "    <tr style=\"text-align: right;\">\n",
              "      <th></th>\n",
              "      <th>geometry</th>\n",
              "      <th>name</th>\n",
              "    </tr>\n",
              "  </thead>\n",
              "  <tbody>\n",
              "    <tr>\n",
              "      <th>0</th>\n",
              "      <td>MULTIPOLYGON (((180.00000 -16.06713, 180.00000...</td>\n",
              "      <td>Fiji</td>\n",
              "    </tr>\n",
              "    <tr>\n",
              "      <th>1</th>\n",
              "      <td>POLYGON ((33.90371 -0.95000, 34.07262 -1.05982...</td>\n",
              "      <td>Tanzania</td>\n",
              "    </tr>\n",
              "    <tr>\n",
              "      <th>2</th>\n",
              "      <td>POLYGON ((-8.66559 27.65643, -8.66512 27.58948...</td>\n",
              "      <td>W. Sahara</td>\n",
              "    </tr>\n",
              "    <tr>\n",
              "      <th>3</th>\n",
              "      <td>MULTIPOLYGON (((-122.84000 49.00000, -122.9742...</td>\n",
              "      <td>Canada</td>\n",
              "    </tr>\n",
              "    <tr>\n",
              "      <th>4</th>\n",
              "      <td>MULTIPOLYGON (((-122.84000 49.00000, -120.0000...</td>\n",
              "      <td>United States of America</td>\n",
              "    </tr>\n",
              "  </tbody>\n",
              "</table>\n",
              "</div>\n",
              "      <button class=\"colab-df-convert\" onclick=\"convertToInteractive('df-14509ad7-7e1e-4cea-acce-88790b2be12b')\"\n",
              "              title=\"Convert this dataframe to an interactive table.\"\n",
              "              style=\"display:none;\">\n",
              "        \n",
              "  <svg xmlns=\"http://www.w3.org/2000/svg\" height=\"24px\"viewBox=\"0 0 24 24\"\n",
              "       width=\"24px\">\n",
              "    <path d=\"M0 0h24v24H0V0z\" fill=\"none\"/>\n",
              "    <path d=\"M18.56 5.44l.94 2.06.94-2.06 2.06-.94-2.06-.94-.94-2.06-.94 2.06-2.06.94zm-11 1L8.5 8.5l.94-2.06 2.06-.94-2.06-.94L8.5 2.5l-.94 2.06-2.06.94zm10 10l.94 2.06.94-2.06 2.06-.94-2.06-.94-.94-2.06-.94 2.06-2.06.94z\"/><path d=\"M17.41 7.96l-1.37-1.37c-.4-.4-.92-.59-1.43-.59-.52 0-1.04.2-1.43.59L10.3 9.45l-7.72 7.72c-.78.78-.78 2.05 0 2.83L4 21.41c.39.39.9.59 1.41.59.51 0 1.02-.2 1.41-.59l7.78-7.78 2.81-2.81c.8-.78.8-2.07 0-2.86zM5.41 20L4 18.59l7.72-7.72 1.47 1.35L5.41 20z\"/>\n",
              "  </svg>\n",
              "      </button>\n",
              "      \n",
              "  <style>\n",
              "    .colab-df-container {\n",
              "      display:flex;\n",
              "      flex-wrap:wrap;\n",
              "      gap: 12px;\n",
              "    }\n",
              "\n",
              "    .colab-df-convert {\n",
              "      background-color: #E8F0FE;\n",
              "      border: none;\n",
              "      border-radius: 50%;\n",
              "      cursor: pointer;\n",
              "      display: none;\n",
              "      fill: #1967D2;\n",
              "      height: 32px;\n",
              "      padding: 0 0 0 0;\n",
              "      width: 32px;\n",
              "    }\n",
              "\n",
              "    .colab-df-convert:hover {\n",
              "      background-color: #E2EBFA;\n",
              "      box-shadow: 0px 1px 2px rgba(60, 64, 67, 0.3), 0px 1px 3px 1px rgba(60, 64, 67, 0.15);\n",
              "      fill: #174EA6;\n",
              "    }\n",
              "\n",
              "    [theme=dark] .colab-df-convert {\n",
              "      background-color: #3B4455;\n",
              "      fill: #D2E3FC;\n",
              "    }\n",
              "\n",
              "    [theme=dark] .colab-df-convert:hover {\n",
              "      background-color: #434B5C;\n",
              "      box-shadow: 0px 1px 3px 1px rgba(0, 0, 0, 0.15);\n",
              "      filter: drop-shadow(0px 1px 2px rgba(0, 0, 0, 0.3));\n",
              "      fill: #FFFFFF;\n",
              "    }\n",
              "  </style>\n",
              "\n",
              "      <script>\n",
              "        const buttonEl =\n",
              "          document.querySelector('#df-14509ad7-7e1e-4cea-acce-88790b2be12b button.colab-df-convert');\n",
              "        buttonEl.style.display =\n",
              "          google.colab.kernel.accessAllowed ? 'block' : 'none';\n",
              "\n",
              "        async function convertToInteractive(key) {\n",
              "          const element = document.querySelector('#df-14509ad7-7e1e-4cea-acce-88790b2be12b');\n",
              "          const dataTable =\n",
              "            await google.colab.kernel.invokeFunction('convertToInteractive',\n",
              "                                                     [key], {});\n",
              "          if (!dataTable) return;\n",
              "\n",
              "          const docLinkHtml = 'Like what you see? Visit the ' +\n",
              "            '<a target=\"_blank\" href=https://colab.research.google.com/notebooks/data_table.ipynb>data table notebook</a>'\n",
              "            + ' to learn more about interactive tables.';\n",
              "          element.innerHTML = '';\n",
              "          dataTable['output_type'] = 'display_data';\n",
              "          await google.colab.output.renderOutput(dataTable, element);\n",
              "          const docLink = document.createElement('div');\n",
              "          docLink.innerHTML = docLinkHtml;\n",
              "          element.appendChild(docLink);\n",
              "        }\n",
              "      </script>\n",
              "    </div>\n",
              "  </div>\n",
              "  "
            ]
          },
          "metadata": {},
          "execution_count": 35
        }
      ]
    },
    {
      "cell_type": "code",
      "source": [
        "# Recall all the attributes of cities:\n",
        "cities.head()"
      ],
      "metadata": {
        "id": "Q87DNaF4nCHK",
        "colab": {
          "base_uri": "https://localhost:8080/",
          "height": 473
        },
        "outputId": "e6bd4646-47b1-40ca-9e28-342a37c2de9e"
      },
      "execution_count": 36,
      "outputs": [
        {
          "output_type": "execute_result",
          "data": {
            "text/plain": [
              "   scalerank  natscale  labelrank              featurecla         name  \\\n",
              "0         10         1          5  Admin-1 region capital        Bombo   \n",
              "1         10         1          5  Admin-1 region capital  Fort Portal   \n",
              "2          7        20          5  Admin-1 region capital        Jinja   \n",
              "3          7        20          5  Admin-1 region capital         Arua   \n",
              "4          7        20          5  Admin-1 region capital        Mbale   \n",
              "\n",
              "  namepar namealt    nameascii  adm0cap  capalt  ... pop_other  rank_max  \\\n",
              "0    None    None        Bombo        0       0  ...       0.0         8   \n",
              "1    None    None  Fort Portal        0       0  ...       0.0         7   \n",
              "2    None    None        Jinja        0       0  ...  301954.0        10   \n",
              "3    None    None         Arua        0       0  ...  448106.0        10   \n",
              "4    None    None        Mbale        0       0  ...  412742.0        10   \n",
              "\n",
              "   rank_min meganame ls_name min_zoom       ne_id                  geometry  \\\n",
              "0         7     None    None      7.0  1159113923  POINT (32.53330 0.58330)   \n",
              "1         7     None    None      7.0  1159113959  POINT (30.27500 0.67100)   \n",
              "2         8     None   Jinja      6.7  1159135379  POINT (33.19993 0.44042)   \n",
              "3         8     None    Arua      6.7  1159135385  POINT (30.90002 3.02037)   \n",
              "4         8     None   Mbale      6.7  1159135427  POINT (34.17000 1.09041)   \n",
              "\n",
              "  iso_a3 continent  \n",
              "0    UGA    Africa  \n",
              "1    UGA    Africa  \n",
              "2    UGA    Africa  \n",
              "3    UGA    Africa  \n",
              "4    UGA    Africa  \n",
              "\n",
              "[5 rows x 34 columns]"
            ],
            "text/html": [
              "\n",
              "  <div id=\"df-ac9b4330-2121-4211-b741-a4064252e481\">\n",
              "    <div class=\"colab-df-container\">\n",
              "      <div>\n",
              "<style scoped>\n",
              "    .dataframe tbody tr th:only-of-type {\n",
              "        vertical-align: middle;\n",
              "    }\n",
              "\n",
              "    .dataframe tbody tr th {\n",
              "        vertical-align: top;\n",
              "    }\n",
              "\n",
              "    .dataframe thead th {\n",
              "        text-align: right;\n",
              "    }\n",
              "</style>\n",
              "<table border=\"1\" class=\"dataframe\">\n",
              "  <thead>\n",
              "    <tr style=\"text-align: right;\">\n",
              "      <th></th>\n",
              "      <th>scalerank</th>\n",
              "      <th>natscale</th>\n",
              "      <th>labelrank</th>\n",
              "      <th>featurecla</th>\n",
              "      <th>name</th>\n",
              "      <th>namepar</th>\n",
              "      <th>namealt</th>\n",
              "      <th>nameascii</th>\n",
              "      <th>adm0cap</th>\n",
              "      <th>capalt</th>\n",
              "      <th>...</th>\n",
              "      <th>pop_other</th>\n",
              "      <th>rank_max</th>\n",
              "      <th>rank_min</th>\n",
              "      <th>meganame</th>\n",
              "      <th>ls_name</th>\n",
              "      <th>min_zoom</th>\n",
              "      <th>ne_id</th>\n",
              "      <th>geometry</th>\n",
              "      <th>iso_a3</th>\n",
              "      <th>continent</th>\n",
              "    </tr>\n",
              "  </thead>\n",
              "  <tbody>\n",
              "    <tr>\n",
              "      <th>0</th>\n",
              "      <td>10</td>\n",
              "      <td>1</td>\n",
              "      <td>5</td>\n",
              "      <td>Admin-1 region capital</td>\n",
              "      <td>Bombo</td>\n",
              "      <td>None</td>\n",
              "      <td>None</td>\n",
              "      <td>Bombo</td>\n",
              "      <td>0</td>\n",
              "      <td>0</td>\n",
              "      <td>...</td>\n",
              "      <td>0.0</td>\n",
              "      <td>8</td>\n",
              "      <td>7</td>\n",
              "      <td>None</td>\n",
              "      <td>None</td>\n",
              "      <td>7.0</td>\n",
              "      <td>1159113923</td>\n",
              "      <td>POINT (32.53330 0.58330)</td>\n",
              "      <td>UGA</td>\n",
              "      <td>Africa</td>\n",
              "    </tr>\n",
              "    <tr>\n",
              "      <th>1</th>\n",
              "      <td>10</td>\n",
              "      <td>1</td>\n",
              "      <td>5</td>\n",
              "      <td>Admin-1 region capital</td>\n",
              "      <td>Fort Portal</td>\n",
              "      <td>None</td>\n",
              "      <td>None</td>\n",
              "      <td>Fort Portal</td>\n",
              "      <td>0</td>\n",
              "      <td>0</td>\n",
              "      <td>...</td>\n",
              "      <td>0.0</td>\n",
              "      <td>7</td>\n",
              "      <td>7</td>\n",
              "      <td>None</td>\n",
              "      <td>None</td>\n",
              "      <td>7.0</td>\n",
              "      <td>1159113959</td>\n",
              "      <td>POINT (30.27500 0.67100)</td>\n",
              "      <td>UGA</td>\n",
              "      <td>Africa</td>\n",
              "    </tr>\n",
              "    <tr>\n",
              "      <th>2</th>\n",
              "      <td>7</td>\n",
              "      <td>20</td>\n",
              "      <td>5</td>\n",
              "      <td>Admin-1 region capital</td>\n",
              "      <td>Jinja</td>\n",
              "      <td>None</td>\n",
              "      <td>None</td>\n",
              "      <td>Jinja</td>\n",
              "      <td>0</td>\n",
              "      <td>0</td>\n",
              "      <td>...</td>\n",
              "      <td>301954.0</td>\n",
              "      <td>10</td>\n",
              "      <td>8</td>\n",
              "      <td>None</td>\n",
              "      <td>Jinja</td>\n",
              "      <td>6.7</td>\n",
              "      <td>1159135379</td>\n",
              "      <td>POINT (33.19993 0.44042)</td>\n",
              "      <td>UGA</td>\n",
              "      <td>Africa</td>\n",
              "    </tr>\n",
              "    <tr>\n",
              "      <th>3</th>\n",
              "      <td>7</td>\n",
              "      <td>20</td>\n",
              "      <td>5</td>\n",
              "      <td>Admin-1 region capital</td>\n",
              "      <td>Arua</td>\n",
              "      <td>None</td>\n",
              "      <td>None</td>\n",
              "      <td>Arua</td>\n",
              "      <td>0</td>\n",
              "      <td>0</td>\n",
              "      <td>...</td>\n",
              "      <td>448106.0</td>\n",
              "      <td>10</td>\n",
              "      <td>8</td>\n",
              "      <td>None</td>\n",
              "      <td>Arua</td>\n",
              "      <td>6.7</td>\n",
              "      <td>1159135385</td>\n",
              "      <td>POINT (30.90002 3.02037)</td>\n",
              "      <td>UGA</td>\n",
              "      <td>Africa</td>\n",
              "    </tr>\n",
              "    <tr>\n",
              "      <th>4</th>\n",
              "      <td>7</td>\n",
              "      <td>20</td>\n",
              "      <td>5</td>\n",
              "      <td>Admin-1 region capital</td>\n",
              "      <td>Mbale</td>\n",
              "      <td>None</td>\n",
              "      <td>None</td>\n",
              "      <td>Mbale</td>\n",
              "      <td>0</td>\n",
              "      <td>0</td>\n",
              "      <td>...</td>\n",
              "      <td>412742.0</td>\n",
              "      <td>10</td>\n",
              "      <td>8</td>\n",
              "      <td>None</td>\n",
              "      <td>Mbale</td>\n",
              "      <td>6.7</td>\n",
              "      <td>1159135427</td>\n",
              "      <td>POINT (34.17000 1.09041)</td>\n",
              "      <td>UGA</td>\n",
              "      <td>Africa</td>\n",
              "    </tr>\n",
              "  </tbody>\n",
              "</table>\n",
              "<p>5 rows × 34 columns</p>\n",
              "</div>\n",
              "      <button class=\"colab-df-convert\" onclick=\"convertToInteractive('df-ac9b4330-2121-4211-b741-a4064252e481')\"\n",
              "              title=\"Convert this dataframe to an interactive table.\"\n",
              "              style=\"display:none;\">\n",
              "        \n",
              "  <svg xmlns=\"http://www.w3.org/2000/svg\" height=\"24px\"viewBox=\"0 0 24 24\"\n",
              "       width=\"24px\">\n",
              "    <path d=\"M0 0h24v24H0V0z\" fill=\"none\"/>\n",
              "    <path d=\"M18.56 5.44l.94 2.06.94-2.06 2.06-.94-2.06-.94-.94-2.06-.94 2.06-2.06.94zm-11 1L8.5 8.5l.94-2.06 2.06-.94-2.06-.94L8.5 2.5l-.94 2.06-2.06.94zm10 10l.94 2.06.94-2.06 2.06-.94-2.06-.94-.94-2.06-.94 2.06-2.06.94z\"/><path d=\"M17.41 7.96l-1.37-1.37c-.4-.4-.92-.59-1.43-.59-.52 0-1.04.2-1.43.59L10.3 9.45l-7.72 7.72c-.78.78-.78 2.05 0 2.83L4 21.41c.39.39.9.59 1.41.59.51 0 1.02-.2 1.41-.59l7.78-7.78 2.81-2.81c.8-.78.8-2.07 0-2.86zM5.41 20L4 18.59l7.72-7.72 1.47 1.35L5.41 20z\"/>\n",
              "  </svg>\n",
              "      </button>\n",
              "      \n",
              "  <style>\n",
              "    .colab-df-container {\n",
              "      display:flex;\n",
              "      flex-wrap:wrap;\n",
              "      gap: 12px;\n",
              "    }\n",
              "\n",
              "    .colab-df-convert {\n",
              "      background-color: #E8F0FE;\n",
              "      border: none;\n",
              "      border-radius: 50%;\n",
              "      cursor: pointer;\n",
              "      display: none;\n",
              "      fill: #1967D2;\n",
              "      height: 32px;\n",
              "      padding: 0 0 0 0;\n",
              "      width: 32px;\n",
              "    }\n",
              "\n",
              "    .colab-df-convert:hover {\n",
              "      background-color: #E2EBFA;\n",
              "      box-shadow: 0px 1px 2px rgba(60, 64, 67, 0.3), 0px 1px 3px 1px rgba(60, 64, 67, 0.15);\n",
              "      fill: #174EA6;\n",
              "    }\n",
              "\n",
              "    [theme=dark] .colab-df-convert {\n",
              "      background-color: #3B4455;\n",
              "      fill: #D2E3FC;\n",
              "    }\n",
              "\n",
              "    [theme=dark] .colab-df-convert:hover {\n",
              "      background-color: #434B5C;\n",
              "      box-shadow: 0px 1px 3px 1px rgba(0, 0, 0, 0.15);\n",
              "      filter: drop-shadow(0px 1px 2px rgba(0, 0, 0, 0.3));\n",
              "      fill: #FFFFFF;\n",
              "    }\n",
              "  </style>\n",
              "\n",
              "      <script>\n",
              "        const buttonEl =\n",
              "          document.querySelector('#df-ac9b4330-2121-4211-b741-a4064252e481 button.colab-df-convert');\n",
              "        buttonEl.style.display =\n",
              "          google.colab.kernel.accessAllowed ? 'block' : 'none';\n",
              "\n",
              "        async function convertToInteractive(key) {\n",
              "          const element = document.querySelector('#df-ac9b4330-2121-4211-b741-a4064252e481');\n",
              "          const dataTable =\n",
              "            await google.colab.kernel.invokeFunction('convertToInteractive',\n",
              "                                                     [key], {});\n",
              "          if (!dataTable) return;\n",
              "\n",
              "          const docLinkHtml = 'Like what you see? Visit the ' +\n",
              "            '<a target=\"_blank\" href=https://colab.research.google.com/notebooks/data_table.ipynb>data table notebook</a>'\n",
              "            + ' to learn more about interactive tables.';\n",
              "          element.innerHTML = '';\n",
              "          dataTable['output_type'] = 'display_data';\n",
              "          await google.colab.output.renderOutput(dataTable, element);\n",
              "          const docLink = document.createElement('div');\n",
              "          docLink.innerHTML = docLinkHtml;\n",
              "          element.appendChild(docLink);\n",
              "        }\n",
              "      </script>\n",
              "    </div>\n",
              "  </div>\n",
              "  "
            ]
          },
          "metadata": {},
          "execution_count": 36
        }
      ]
    },
    {
      "cell_type": "code",
      "source": [
        "# Check and see if the merge worked\n",
        "cities_with_country = gpd.sjoin(cities, countries, how=\"inner\", op='intersects')\n",
        "cities_with_country.head()"
      ],
      "metadata": {
        "id": "bszSgKS-nGOS",
        "colab": {
          "base_uri": "https://localhost:8080/",
          "height": 509
        },
        "outputId": "0f1e399c-4611-4415-a540-1ad7d06f17e6"
      },
      "execution_count": 37,
      "outputs": [
        {
          "output_type": "stream",
          "name": "stderr",
          "text": [
            "/usr/local/lib/python3.7/dist-packages/IPython/core/interactiveshell.py:3249: FutureWarning: The `op` parameter is deprecated and will be removed in a future release. Please use the `predicate` parameter instead.\n",
            "  if (await self.run_code(code, result,  async_=asy)):\n"
          ]
        },
        {
          "output_type": "execute_result",
          "data": {
            "text/plain": [
              "   scalerank  natscale  labelrank              featurecla    name_left  \\\n",
              "0         10         1          5  Admin-1 region capital        Bombo   \n",
              "1         10         1          5  Admin-1 region capital  Fort Portal   \n",
              "2          7        20          5  Admin-1 region capital        Jinja   \n",
              "3          7        20          5  Admin-1 region capital         Arua   \n",
              "4          7        20          5  Admin-1 region capital        Mbale   \n",
              "\n",
              "  namepar namealt    nameascii  adm0cap  capalt  ... rank_min  meganame  \\\n",
              "0    None    None        Bombo        0       0  ...        7      None   \n",
              "1    None    None  Fort Portal        0       0  ...        7      None   \n",
              "2    None    None        Jinja        0       0  ...        8      None   \n",
              "3    None    None         Arua        0       0  ...        8      None   \n",
              "4    None    None        Mbale        0       0  ...        8      None   \n",
              "\n",
              "   ls_name min_zoom       ne_id                  geometry iso_a3 continent  \\\n",
              "0     None      7.0  1159113923  POINT (32.53330 0.58330)    UGA    Africa   \n",
              "1     None      7.0  1159113959  POINT (30.27500 0.67100)    UGA    Africa   \n",
              "2    Jinja      6.7  1159135379  POINT (33.19993 0.44042)    UGA    Africa   \n",
              "3     Arua      6.7  1159135385  POINT (30.90002 3.02037)    UGA    Africa   \n",
              "4    Mbale      6.7  1159135427  POINT (34.17000 1.09041)    UGA    Africa   \n",
              "\n",
              "  index_right name_right  \n",
              "0         168     Uganda  \n",
              "1         168     Uganda  \n",
              "2         168     Uganda  \n",
              "3         168     Uganda  \n",
              "4         168     Uganda  \n",
              "\n",
              "[5 rows x 36 columns]"
            ],
            "text/html": [
              "\n",
              "  <div id=\"df-76b3565b-90db-4da7-b825-6ec6a1398950\">\n",
              "    <div class=\"colab-df-container\">\n",
              "      <div>\n",
              "<style scoped>\n",
              "    .dataframe tbody tr th:only-of-type {\n",
              "        vertical-align: middle;\n",
              "    }\n",
              "\n",
              "    .dataframe tbody tr th {\n",
              "        vertical-align: top;\n",
              "    }\n",
              "\n",
              "    .dataframe thead th {\n",
              "        text-align: right;\n",
              "    }\n",
              "</style>\n",
              "<table border=\"1\" class=\"dataframe\">\n",
              "  <thead>\n",
              "    <tr style=\"text-align: right;\">\n",
              "      <th></th>\n",
              "      <th>scalerank</th>\n",
              "      <th>natscale</th>\n",
              "      <th>labelrank</th>\n",
              "      <th>featurecla</th>\n",
              "      <th>name_left</th>\n",
              "      <th>namepar</th>\n",
              "      <th>namealt</th>\n",
              "      <th>nameascii</th>\n",
              "      <th>adm0cap</th>\n",
              "      <th>capalt</th>\n",
              "      <th>...</th>\n",
              "      <th>rank_min</th>\n",
              "      <th>meganame</th>\n",
              "      <th>ls_name</th>\n",
              "      <th>min_zoom</th>\n",
              "      <th>ne_id</th>\n",
              "      <th>geometry</th>\n",
              "      <th>iso_a3</th>\n",
              "      <th>continent</th>\n",
              "      <th>index_right</th>\n",
              "      <th>name_right</th>\n",
              "    </tr>\n",
              "  </thead>\n",
              "  <tbody>\n",
              "    <tr>\n",
              "      <th>0</th>\n",
              "      <td>10</td>\n",
              "      <td>1</td>\n",
              "      <td>5</td>\n",
              "      <td>Admin-1 region capital</td>\n",
              "      <td>Bombo</td>\n",
              "      <td>None</td>\n",
              "      <td>None</td>\n",
              "      <td>Bombo</td>\n",
              "      <td>0</td>\n",
              "      <td>0</td>\n",
              "      <td>...</td>\n",
              "      <td>7</td>\n",
              "      <td>None</td>\n",
              "      <td>None</td>\n",
              "      <td>7.0</td>\n",
              "      <td>1159113923</td>\n",
              "      <td>POINT (32.53330 0.58330)</td>\n",
              "      <td>UGA</td>\n",
              "      <td>Africa</td>\n",
              "      <td>168</td>\n",
              "      <td>Uganda</td>\n",
              "    </tr>\n",
              "    <tr>\n",
              "      <th>1</th>\n",
              "      <td>10</td>\n",
              "      <td>1</td>\n",
              "      <td>5</td>\n",
              "      <td>Admin-1 region capital</td>\n",
              "      <td>Fort Portal</td>\n",
              "      <td>None</td>\n",
              "      <td>None</td>\n",
              "      <td>Fort Portal</td>\n",
              "      <td>0</td>\n",
              "      <td>0</td>\n",
              "      <td>...</td>\n",
              "      <td>7</td>\n",
              "      <td>None</td>\n",
              "      <td>None</td>\n",
              "      <td>7.0</td>\n",
              "      <td>1159113959</td>\n",
              "      <td>POINT (30.27500 0.67100)</td>\n",
              "      <td>UGA</td>\n",
              "      <td>Africa</td>\n",
              "      <td>168</td>\n",
              "      <td>Uganda</td>\n",
              "    </tr>\n",
              "    <tr>\n",
              "      <th>2</th>\n",
              "      <td>7</td>\n",
              "      <td>20</td>\n",
              "      <td>5</td>\n",
              "      <td>Admin-1 region capital</td>\n",
              "      <td>Jinja</td>\n",
              "      <td>None</td>\n",
              "      <td>None</td>\n",
              "      <td>Jinja</td>\n",
              "      <td>0</td>\n",
              "      <td>0</td>\n",
              "      <td>...</td>\n",
              "      <td>8</td>\n",
              "      <td>None</td>\n",
              "      <td>Jinja</td>\n",
              "      <td>6.7</td>\n",
              "      <td>1159135379</td>\n",
              "      <td>POINT (33.19993 0.44042)</td>\n",
              "      <td>UGA</td>\n",
              "      <td>Africa</td>\n",
              "      <td>168</td>\n",
              "      <td>Uganda</td>\n",
              "    </tr>\n",
              "    <tr>\n",
              "      <th>3</th>\n",
              "      <td>7</td>\n",
              "      <td>20</td>\n",
              "      <td>5</td>\n",
              "      <td>Admin-1 region capital</td>\n",
              "      <td>Arua</td>\n",
              "      <td>None</td>\n",
              "      <td>None</td>\n",
              "      <td>Arua</td>\n",
              "      <td>0</td>\n",
              "      <td>0</td>\n",
              "      <td>...</td>\n",
              "      <td>8</td>\n",
              "      <td>None</td>\n",
              "      <td>Arua</td>\n",
              "      <td>6.7</td>\n",
              "      <td>1159135385</td>\n",
              "      <td>POINT (30.90002 3.02037)</td>\n",
              "      <td>UGA</td>\n",
              "      <td>Africa</td>\n",
              "      <td>168</td>\n",
              "      <td>Uganda</td>\n",
              "    </tr>\n",
              "    <tr>\n",
              "      <th>4</th>\n",
              "      <td>7</td>\n",
              "      <td>20</td>\n",
              "      <td>5</td>\n",
              "      <td>Admin-1 region capital</td>\n",
              "      <td>Mbale</td>\n",
              "      <td>None</td>\n",
              "      <td>None</td>\n",
              "      <td>Mbale</td>\n",
              "      <td>0</td>\n",
              "      <td>0</td>\n",
              "      <td>...</td>\n",
              "      <td>8</td>\n",
              "      <td>None</td>\n",
              "      <td>Mbale</td>\n",
              "      <td>6.7</td>\n",
              "      <td>1159135427</td>\n",
              "      <td>POINT (34.17000 1.09041)</td>\n",
              "      <td>UGA</td>\n",
              "      <td>Africa</td>\n",
              "      <td>168</td>\n",
              "      <td>Uganda</td>\n",
              "    </tr>\n",
              "  </tbody>\n",
              "</table>\n",
              "<p>5 rows × 36 columns</p>\n",
              "</div>\n",
              "      <button class=\"colab-df-convert\" onclick=\"convertToInteractive('df-76b3565b-90db-4da7-b825-6ec6a1398950')\"\n",
              "              title=\"Convert this dataframe to an interactive table.\"\n",
              "              style=\"display:none;\">\n",
              "        \n",
              "  <svg xmlns=\"http://www.w3.org/2000/svg\" height=\"24px\"viewBox=\"0 0 24 24\"\n",
              "       width=\"24px\">\n",
              "    <path d=\"M0 0h24v24H0V0z\" fill=\"none\"/>\n",
              "    <path d=\"M18.56 5.44l.94 2.06.94-2.06 2.06-.94-2.06-.94-.94-2.06-.94 2.06-2.06.94zm-11 1L8.5 8.5l.94-2.06 2.06-.94-2.06-.94L8.5 2.5l-.94 2.06-2.06.94zm10 10l.94 2.06.94-2.06 2.06-.94-2.06-.94-.94-2.06-.94 2.06-2.06.94z\"/><path d=\"M17.41 7.96l-1.37-1.37c-.4-.4-.92-.59-1.43-.59-.52 0-1.04.2-1.43.59L10.3 9.45l-7.72 7.72c-.78.78-.78 2.05 0 2.83L4 21.41c.39.39.9.59 1.41.59.51 0 1.02-.2 1.41-.59l7.78-7.78 2.81-2.81c.8-.78.8-2.07 0-2.86zM5.41 20L4 18.59l7.72-7.72 1.47 1.35L5.41 20z\"/>\n",
              "  </svg>\n",
              "      </button>\n",
              "      \n",
              "  <style>\n",
              "    .colab-df-container {\n",
              "      display:flex;\n",
              "      flex-wrap:wrap;\n",
              "      gap: 12px;\n",
              "    }\n",
              "\n",
              "    .colab-df-convert {\n",
              "      background-color: #E8F0FE;\n",
              "      border: none;\n",
              "      border-radius: 50%;\n",
              "      cursor: pointer;\n",
              "      display: none;\n",
              "      fill: #1967D2;\n",
              "      height: 32px;\n",
              "      padding: 0 0 0 0;\n",
              "      width: 32px;\n",
              "    }\n",
              "\n",
              "    .colab-df-convert:hover {\n",
              "      background-color: #E2EBFA;\n",
              "      box-shadow: 0px 1px 2px rgba(60, 64, 67, 0.3), 0px 1px 3px 1px rgba(60, 64, 67, 0.15);\n",
              "      fill: #174EA6;\n",
              "    }\n",
              "\n",
              "    [theme=dark] .colab-df-convert {\n",
              "      background-color: #3B4455;\n",
              "      fill: #D2E3FC;\n",
              "    }\n",
              "\n",
              "    [theme=dark] .colab-df-convert:hover {\n",
              "      background-color: #434B5C;\n",
              "      box-shadow: 0px 1px 3px 1px rgba(0, 0, 0, 0.15);\n",
              "      filter: drop-shadow(0px 1px 2px rgba(0, 0, 0, 0.3));\n",
              "      fill: #FFFFFF;\n",
              "    }\n",
              "  </style>\n",
              "\n",
              "      <script>\n",
              "        const buttonEl =\n",
              "          document.querySelector('#df-76b3565b-90db-4da7-b825-6ec6a1398950 button.colab-df-convert');\n",
              "        buttonEl.style.display =\n",
              "          google.colab.kernel.accessAllowed ? 'block' : 'none';\n",
              "\n",
              "        async function convertToInteractive(key) {\n",
              "          const element = document.querySelector('#df-76b3565b-90db-4da7-b825-6ec6a1398950');\n",
              "          const dataTable =\n",
              "            await google.colab.kernel.invokeFunction('convertToInteractive',\n",
              "                                                     [key], {});\n",
              "          if (!dataTable) return;\n",
              "\n",
              "          const docLinkHtml = 'Like what you see? Visit the ' +\n",
              "            '<a target=\"_blank\" href=https://colab.research.google.com/notebooks/data_table.ipynb>data table notebook</a>'\n",
              "            + ' to learn more about interactive tables.';\n",
              "          element.innerHTML = '';\n",
              "          dataTable['output_type'] = 'display_data';\n",
              "          await google.colab.output.renderOutput(dataTable, element);\n",
              "          const docLink = document.createElement('div');\n",
              "          docLink.innerHTML = docLinkHtml;\n",
              "          element.appendChild(docLink);\n",
              "        }\n",
              "      </script>\n",
              "    </div>\n",
              "  </div>\n",
              "  "
            ]
          },
          "metadata": {},
          "execution_count": 37
        }
      ]
    },
    {
      "cell_type": "markdown",
      "source": [
        "## TASK 5: \n",
        "In this markdown cell in your own words, explain how the spatial join worked. How does this differ from the attribute join?\n",
        "\n",
        "In spatial join, feature from a row are joined to target feature based on their relative location. \n",
        "\n",
        "Spatial join does not depend on attribute but on the location of feature for joining unlike attribute data.\n"
      ],
      "metadata": {
        "id": "IRdwL71Xs6MR"
      }
    },
    {
      "cell_type": "markdown",
      "source": [
        "## Nested features\n",
        "Often, vector spatial features will be nested within each other. For example, in the world dataset, there are countries which are nested within continents.\n",
        "\n",
        "If you wanted to extract just the continent outlines, you would need to erase the country boundaries within each continent. We can use the **dissolve** function to do this.\n",
        "\n",
        "In a non-spatial setting, when all we need are summary statistics of the data, we aggregate our data using the `groupby` function. But for spatial data, we sometimes alsoIn a non-spatial setting, when all we need are summary statistics of the data, we aggregate our data using the groupby function. But for spatial data, we sometimes also need to aggregate geometric features. In the geopandas library, we can aggregate geometric features using the dissolve function.\n",
        "\n",
        "dissolve can be thought of as doing three things: (a) it dissolves all the geometries within a given group together into a single geometric feature (using the unary_union method), and (b) it aggregates all the rows of data in a group using groupby.aggregate(), and (c) it combines those two results.\n",
        "\n",
        "```\n",
        "# This is formatted as code\n",
        "```\n",
        "\n",
        " need to aggregate geometric features. In the geopandas library, we can aggregate geometric features using the `dissolve` function.\n",
        "\n",
        "`dissolve` can be thought of as doing three things: (a) it dissolves all the geometries within a given group together into a single geometric feature (using the unary_union method), and (b) it aggregates all the rows of data in a group using `groupby.aggregate()`, and (c) it combines those two results."
      ],
      "metadata": {
        "id": "FRn005lstNno"
      }
    },
    {
      "cell_type": "code",
      "source": [
        "world = world[['continent', 'geometry']]\n",
        "\n",
        "continents = world.dissolve(by='continent')\n",
        "\n",
        "continents.plot();\n",
        "\n",
        "continents.head()"
      ],
      "metadata": {
        "id": "oZZ6er1Et_XP"
      },
      "execution_count": null,
      "outputs": []
    },
    {
      "cell_type": "markdown",
      "source": [
        "If we are interested in aggregate populations, however, we can pass different functions to the dissolve method to aggregate populations using the `aggfunc = ` argument:"
      ],
      "metadata": {
        "id": "pna_Qn2aurYI"
      }
    },
    {
      "cell_type": "code",
      "source": [
        "# Re-read in the world dataset\n",
        "world = gpd.read_file(gpd.datasets.get_path('naturalearth_lowres'))\n",
        "\n",
        "# Select only the attributes we're interested in:\n",
        "world = world[['continent', 'geometry', 'pop_est']]\n",
        "\n",
        "# Dissolve into country aggregates, collecting the sum of other attributes\n",
        "continents = world.dissolve(by='continent', aggfunc='sum')\n",
        "\n",
        "continents.plot(column = 'pop_est', scheme='quantiles', cmap='YlOrRd');\n",
        "continents.head()"
      ],
      "metadata": {
        "id": "IbG_sgdiuyX5",
        "colab": {
          "base_uri": "https://localhost:8080/",
          "height": 430
        },
        "outputId": "f2dbd4f3-0994-4ebc-d585-751335f280c1"
      },
      "execution_count": 76,
      "outputs": [
        {
          "output_type": "execute_result",
          "data": {
            "text/plain": [
              "                                                        geometry     pop_est\n",
              "continent                                                                   \n",
              "Africa         MULTIPOLYGON (((-11.43878 6.78592, -11.70819 6...  1219176238\n",
              "Antarctica     MULTIPOLYGON (((-61.13898 -79.98137, -60.61012...        4050\n",
              "Asia           MULTIPOLYGON (((48.67923 14.00320, 48.23895 13...  4389144868\n",
              "Europe         MULTIPOLYGON (((-53.55484 2.33490, -53.77852 2...   746398461\n",
              "North America  MULTIPOLYGON (((-155.22217 19.23972, -155.5421...   573042112"
            ],
            "text/html": [
              "\n",
              "  <div id=\"df-dfc0e49f-4f92-40b1-af8b-e175b662bff5\">\n",
              "    <div class=\"colab-df-container\">\n",
              "      <div>\n",
              "<style scoped>\n",
              "    .dataframe tbody tr th:only-of-type {\n",
              "        vertical-align: middle;\n",
              "    }\n",
              "\n",
              "    .dataframe tbody tr th {\n",
              "        vertical-align: top;\n",
              "    }\n",
              "\n",
              "    .dataframe thead th {\n",
              "        text-align: right;\n",
              "    }\n",
              "</style>\n",
              "<table border=\"1\" class=\"dataframe\">\n",
              "  <thead>\n",
              "    <tr style=\"text-align: right;\">\n",
              "      <th></th>\n",
              "      <th>geometry</th>\n",
              "      <th>pop_est</th>\n",
              "    </tr>\n",
              "    <tr>\n",
              "      <th>continent</th>\n",
              "      <th></th>\n",
              "      <th></th>\n",
              "    </tr>\n",
              "  </thead>\n",
              "  <tbody>\n",
              "    <tr>\n",
              "      <th>Africa</th>\n",
              "      <td>MULTIPOLYGON (((-11.43878 6.78592, -11.70819 6...</td>\n",
              "      <td>1219176238</td>\n",
              "    </tr>\n",
              "    <tr>\n",
              "      <th>Antarctica</th>\n",
              "      <td>MULTIPOLYGON (((-61.13898 -79.98137, -60.61012...</td>\n",
              "      <td>4050</td>\n",
              "    </tr>\n",
              "    <tr>\n",
              "      <th>Asia</th>\n",
              "      <td>MULTIPOLYGON (((48.67923 14.00320, 48.23895 13...</td>\n",
              "      <td>4389144868</td>\n",
              "    </tr>\n",
              "    <tr>\n",
              "      <th>Europe</th>\n",
              "      <td>MULTIPOLYGON (((-53.55484 2.33490, -53.77852 2...</td>\n",
              "      <td>746398461</td>\n",
              "    </tr>\n",
              "    <tr>\n",
              "      <th>North America</th>\n",
              "      <td>MULTIPOLYGON (((-155.22217 19.23972, -155.5421...</td>\n",
              "      <td>573042112</td>\n",
              "    </tr>\n",
              "  </tbody>\n",
              "</table>\n",
              "</div>\n",
              "      <button class=\"colab-df-convert\" onclick=\"convertToInteractive('df-dfc0e49f-4f92-40b1-af8b-e175b662bff5')\"\n",
              "              title=\"Convert this dataframe to an interactive table.\"\n",
              "              style=\"display:none;\">\n",
              "        \n",
              "  <svg xmlns=\"http://www.w3.org/2000/svg\" height=\"24px\"viewBox=\"0 0 24 24\"\n",
              "       width=\"24px\">\n",
              "    <path d=\"M0 0h24v24H0V0z\" fill=\"none\"/>\n",
              "    <path d=\"M18.56 5.44l.94 2.06.94-2.06 2.06-.94-2.06-.94-.94-2.06-.94 2.06-2.06.94zm-11 1L8.5 8.5l.94-2.06 2.06-.94-2.06-.94L8.5 2.5l-.94 2.06-2.06.94zm10 10l.94 2.06.94-2.06 2.06-.94-2.06-.94-.94-2.06-.94 2.06-2.06.94z\"/><path d=\"M17.41 7.96l-1.37-1.37c-.4-.4-.92-.59-1.43-.59-.52 0-1.04.2-1.43.59L10.3 9.45l-7.72 7.72c-.78.78-.78 2.05 0 2.83L4 21.41c.39.39.9.59 1.41.59.51 0 1.02-.2 1.41-.59l7.78-7.78 2.81-2.81c.8-.78.8-2.07 0-2.86zM5.41 20L4 18.59l7.72-7.72 1.47 1.35L5.41 20z\"/>\n",
              "  </svg>\n",
              "      </button>\n",
              "      \n",
              "  <style>\n",
              "    .colab-df-container {\n",
              "      display:flex;\n",
              "      flex-wrap:wrap;\n",
              "      gap: 12px;\n",
              "    }\n",
              "\n",
              "    .colab-df-convert {\n",
              "      background-color: #E8F0FE;\n",
              "      border: none;\n",
              "      border-radius: 50%;\n",
              "      cursor: pointer;\n",
              "      display: none;\n",
              "      fill: #1967D2;\n",
              "      height: 32px;\n",
              "      padding: 0 0 0 0;\n",
              "      width: 32px;\n",
              "    }\n",
              "\n",
              "    .colab-df-convert:hover {\n",
              "      background-color: #E2EBFA;\n",
              "      box-shadow: 0px 1px 2px rgba(60, 64, 67, 0.3), 0px 1px 3px 1px rgba(60, 64, 67, 0.15);\n",
              "      fill: #174EA6;\n",
              "    }\n",
              "\n",
              "    [theme=dark] .colab-df-convert {\n",
              "      background-color: #3B4455;\n",
              "      fill: #D2E3FC;\n",
              "    }\n",
              "\n",
              "    [theme=dark] .colab-df-convert:hover {\n",
              "      background-color: #434B5C;\n",
              "      box-shadow: 0px 1px 3px 1px rgba(0, 0, 0, 0.15);\n",
              "      filter: drop-shadow(0px 1px 2px rgba(0, 0, 0, 0.3));\n",
              "      fill: #FFFFFF;\n",
              "    }\n",
              "  </style>\n",
              "\n",
              "      <script>\n",
              "        const buttonEl =\n",
              "          document.querySelector('#df-dfc0e49f-4f92-40b1-af8b-e175b662bff5 button.colab-df-convert');\n",
              "        buttonEl.style.display =\n",
              "          google.colab.kernel.accessAllowed ? 'block' : 'none';\n",
              "\n",
              "        async function convertToInteractive(key) {\n",
              "          const element = document.querySelector('#df-dfc0e49f-4f92-40b1-af8b-e175b662bff5');\n",
              "          const dataTable =\n",
              "            await google.colab.kernel.invokeFunction('convertToInteractive',\n",
              "                                                     [key], {});\n",
              "          if (!dataTable) return;\n",
              "\n",
              "          const docLinkHtml = 'Like what you see? Visit the ' +\n",
              "            '<a target=\"_blank\" href=https://colab.research.google.com/notebooks/data_table.ipynb>data table notebook</a>'\n",
              "            + ' to learn more about interactive tables.';\n",
              "          element.innerHTML = '';\n",
              "          dataTable['output_type'] = 'display_data';\n",
              "          await google.colab.output.renderOutput(dataTable, element);\n",
              "          const docLink = document.createElement('div');\n",
              "          docLink.innerHTML = docLinkHtml;\n",
              "          element.appendChild(docLink);\n",
              "        }\n",
              "      </script>\n",
              "    </div>\n",
              "  </div>\n",
              "  "
            ]
          },
          "metadata": {},
          "execution_count": 76
        },
        {
          "output_type": "display_data",
          "data": {
            "text/plain": [
              "<Figure size 432x288 with 1 Axes>"
            ],
            "image/png": "[encoded data removed]"
          },
          "metadata": {
            "needs_background": "light"
          }
        }
      ]
    },
    {
      "cell_type": "markdown",
      "source": [
        "## TASK 6-8: putting it together\n",
        "Use your skills with `merge`, `dissolve`, and pandas math to do the following:\n",
        "6. What is the total urban population on each continent? Show your results as a chloropleth map and a table.\n",
        "7. What fraction of the total population lives in cities in each continent? Show your results as a chloropleth map and a table.\n",
        "8. What is the most urban continent on earth (largest share of the population lives in cities)?"
      ],
      "metadata": {
        "id": "ILJ15rlfvjRX"
      }
    },
    {
      "cell_type": "code",
      "source": [
        " # Task 6 code her\n",
        " world.head(3)"
      ],
      "metadata": {
        "id": "Ij3UEmxqvNwW",
        "colab": {
          "base_uri": "https://localhost:8080/",
          "height": 143
        },
        "outputId": "67938136-46f4-4653-eb8b-479f4848847f"
      },
      "execution_count": 77,
      "outputs": [
        {
          "output_type": "execute_result",
          "data": {
            "text/plain": [
              "  continent                                           geometry   pop_est\n",
              "0   Oceania  MULTIPOLYGON (((180.00000 -16.06713, 180.00000...    920938\n",
              "1    Africa  POLYGON ((33.90371 -0.95000, 34.07262 -1.05982...  53950935\n",
              "2    Africa  POLYGON ((-8.66559 27.65643, -8.66512 27.58948...    603253"
            ],
            "text/html": [
              "\n",
              "  <div id=\"df-317f3ce7-f5dd-44d8-995c-1795b195ca34\">\n",
              "    <div class=\"colab-df-container\">\n",
              "      <div>\n",
              "<style scoped>\n",
              "    .dataframe tbody tr th:only-of-type {\n",
              "        vertical-align: middle;\n",
              "    }\n",
              "\n",
              "    .dataframe tbody tr th {\n",
              "        vertical-align: top;\n",
              "    }\n",
              "\n",
              "    .dataframe thead th {\n",
              "        text-align: right;\n",
              "    }\n",
              "</style>\n",
              "<table border=\"1\" class=\"dataframe\">\n",
              "  <thead>\n",
              "    <tr style=\"text-align: right;\">\n",
              "      <th></th>\n",
              "      <th>continent</th>\n",
              "      <th>geometry</th>\n",
              "      <th>pop_est</th>\n",
              "    </tr>\n",
              "  </thead>\n",
              "  <tbody>\n",
              "    <tr>\n",
              "      <th>0</th>\n",
              "      <td>Oceania</td>\n",
              "      <td>MULTIPOLYGON (((180.00000 -16.06713, 180.00000...</td>\n",
              "      <td>920938</td>\n",
              "    </tr>\n",
              "    <tr>\n",
              "      <th>1</th>\n",
              "      <td>Africa</td>\n",
              "      <td>POLYGON ((33.90371 -0.95000, 34.07262 -1.05982...</td>\n",
              "      <td>53950935</td>\n",
              "    </tr>\n",
              "    <tr>\n",
              "      <th>2</th>\n",
              "      <td>Africa</td>\n",
              "      <td>POLYGON ((-8.66559 27.65643, -8.66512 27.58948...</td>\n",
              "      <td>603253</td>\n",
              "    </tr>\n",
              "  </tbody>\n",
              "</table>\n",
              "</div>\n",
              "      <button class=\"colab-df-convert\" onclick=\"convertToInteractive('df-317f3ce7-f5dd-44d8-995c-1795b195ca34')\"\n",
              "              title=\"Convert this dataframe to an interactive table.\"\n",
              "              style=\"display:none;\">\n",
              "        \n",
              "  <svg xmlns=\"http://www.w3.org/2000/svg\" height=\"24px\"viewBox=\"0 0 24 24\"\n",
              "       width=\"24px\">\n",
              "    <path d=\"M0 0h24v24H0V0z\" fill=\"none\"/>\n",
              "    <path d=\"M18.56 5.44l.94 2.06.94-2.06 2.06-.94-2.06-.94-.94-2.06-.94 2.06-2.06.94zm-11 1L8.5 8.5l.94-2.06 2.06-.94-2.06-.94L8.5 2.5l-.94 2.06-2.06.94zm10 10l.94 2.06.94-2.06 2.06-.94-2.06-.94-.94-2.06-.94 2.06-2.06.94z\"/><path d=\"M17.41 7.96l-1.37-1.37c-.4-.4-.92-.59-1.43-.59-.52 0-1.04.2-1.43.59L10.3 9.45l-7.72 7.72c-.78.78-.78 2.05 0 2.83L4 21.41c.39.39.9.59 1.41.59.51 0 1.02-.2 1.41-.59l7.78-7.78 2.81-2.81c.8-.78.8-2.07 0-2.86zM5.41 20L4 18.59l7.72-7.72 1.47 1.35L5.41 20z\"/>\n",
              "  </svg>\n",
              "      </button>\n",
              "      \n",
              "  <style>\n",
              "    .colab-df-container {\n",
              "      display:flex;\n",
              "      flex-wrap:wrap;\n",
              "      gap: 12px;\n",
              "    }\n",
              "\n",
              "    .colab-df-convert {\n",
              "      background-color: #E8F0FE;\n",
              "      border: none;\n",
              "      border-radius: 50%;\n",
              "      cursor: pointer;\n",
              "      display: none;\n",
              "      fill: #1967D2;\n",
              "      height: 32px;\n",
              "      padding: 0 0 0 0;\n",
              "      width: 32px;\n",
              "    }\n",
              "\n",
              "    .colab-df-convert:hover {\n",
              "      background-color: #E2EBFA;\n",
              "      box-shadow: 0px 1px 2px rgba(60, 64, 67, 0.3), 0px 1px 3px 1px rgba(60, 64, 67, 0.15);\n",
              "      fill: #174EA6;\n",
              "    }\n",
              "\n",
              "    [theme=dark] .colab-df-convert {\n",
              "      background-color: #3B4455;\n",
              "      fill: #D2E3FC;\n",
              "    }\n",
              "\n",
              "    [theme=dark] .colab-df-convert:hover {\n",
              "      background-color: #434B5C;\n",
              "      box-shadow: 0px 1px 3px 1px rgba(0, 0, 0, 0.15);\n",
              "      filter: drop-shadow(0px 1px 2px rgba(0, 0, 0, 0.3));\n",
              "      fill: #FFFFFF;\n",
              "    }\n",
              "  </style>\n",
              "\n",
              "      <script>\n",
              "        const buttonEl =\n",
              "          document.querySelector('#df-317f3ce7-f5dd-44d8-995c-1795b195ca34 button.colab-df-convert');\n",
              "        buttonEl.style.display =\n",
              "          google.colab.kernel.accessAllowed ? 'block' : 'none';\n",
              "\n",
              "        async function convertToInteractive(key) {\n",
              "          const element = document.querySelector('#df-317f3ce7-f5dd-44d8-995c-1795b195ca34');\n",
              "          const dataTable =\n",
              "            await google.colab.kernel.invokeFunction('convertToInteractive',\n",
              "                                                     [key], {});\n",
              "          if (!dataTable) return;\n",
              "\n",
              "          const docLinkHtml = 'Like what you see? Visit the ' +\n",
              "            '<a target=\"_blank\" href=https://colab.research.google.com/notebooks/data_table.ipynb>data table notebook</a>'\n",
              "            + ' to learn more about interactive tables.';\n",
              "          element.innerHTML = '';\n",
              "          dataTable['output_type'] = 'display_data';\n",
              "          await google.colab.output.renderOutput(dataTable, element);\n",
              "          const docLink = document.createElement('div');\n",
              "          docLink.innerHTML = docLinkHtml;\n",
              "          element.appendChild(docLink);\n",
              "        }\n",
              "      </script>\n",
              "    </div>\n",
              "  </div>\n",
              "  "
            ]
          },
          "metadata": {},
          "execution_count": 77
        }
      ]
    },
    {
      "cell_type": "code",
      "source": [
        "# Task 6 code here:"
      ],
      "metadata": {
        "id": "9Xzpz9CCwc2S"
      },
      "execution_count": null,
      "outputs": []
    },
    {
      "cell_type": "code",
      "source": [
        "# Task 8 code here:"
      ],
      "metadata": {
        "id": "G-FlMvOnwgdF"
      },
      "execution_count": null,
      "outputs": []
    }
  ],
  "metadata": {
    "kernelspec": {
      "display_name": "Python 3 (ipykernel)",
      "language": "python",
      "name": "python3"
    },
    "language_info": {
      "codemirror_mode": {
        "name": "ipython",
        "version": 3
      },
      "file_extension": ".py",
      "mimetype": "text/x-python",
      "name": "python",
      "nbconvert_exporter": "python",
      "pygments_lexer": "ipython3",
      "version": "3.9.12"
    },
    "colab": {
      "provenance": [],
      "include_colab_link": true
    }
  },
  "nbformat": 4,
  "nbformat_minor": 0
}