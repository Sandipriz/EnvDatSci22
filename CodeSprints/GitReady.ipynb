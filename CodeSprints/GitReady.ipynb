{
  "cells": [
    {
      "cell_type": "markdown",
      "metadata": {
        "id": "view-in-github",
        "colab_type": "text"
      },
      "source": [
<<<<<<< HEAD
        "<a href=\"https://colab.research.google.com/github/Sandipriz/EnvDatSci22/blob/master/CodeSprints/GitReady.ipynb\" target=\"_parent\"><img src=\"https://colab.research.google.com/assets/colab-badge.svg\" alt=\"Open In Colab\"/></a>"
=======
        "<a href=\"https://colab.research.google.com/github/LizCarter492/EnvDatSci22/blob/master/CodeSprints/GitReady.ipynb\" target=\"_parent\"><img src=\"https://colab.research.google.com/assets/colab-badge.svg\" alt=\"Open In Colab\"/></a>"
>>>>>>> 1a6e0263594052c3d45977647c49898a2bc81ed0
      ]
    },
    {
      "cell_type": "markdown",
      "metadata": {
        "id": "CIxlXjOpvwly"
      },
      "source": [
        "This notebook will help you interface your GitHub account with Google Colab. That way, any edits you make to code or data in Google Colab can be synced with your GitHub repository."
      ]
    },
    {
      "cell_type": "code",
<<<<<<< HEAD
      "execution_count": 1,
      "metadata": {
        "id": "Cb2c1TnMkWJc",
        "outputId": "031386a2-42ec-49ab-fd43-0461688ae069",
        "colab": {
          "base_uri": "https://localhost:8080/"
        }
      },
      "outputs": [
        {
          "output_type": "stream",
          "name": "stdout",
          "text": [
            "Mounted at /content/drive\n"
          ]
        }
      ],
=======
      "execution_count": null,
      "metadata": {
        "id": "Cb2c1TnMkWJc"
      },
      "outputs": [],
>>>>>>> 1a6e0263594052c3d45977647c49898a2bc81ed0
      "source": [
        "#First, let's link your Google Drive account to Google Colab. \n",
        "from google.colab import drive\n",
        "drive.mount('/content/drive')"
      ]
    },
    {
      "cell_type": "code",
<<<<<<< HEAD
      "execution_count": 2,
      "metadata": {
        "id": "C-8sZtAHj3uJ",
        "outputId": "38b1457e-1d1c-439e-844e-2deeb4ed8db6",
        "colab": {
          "base_uri": "https://localhost:8080/",
          "height": 592
        }
      },
      "outputs": [
        {
          "output_type": "stream",
          "name": "stdout",
          "text": [
            "Looking in indexes: https://pypi.org/simple, https://us-python.pkg.dev/colab-wheels/public/simple/\n",
            "Collecting clmutils\n",
            "  Downloading clmutils-0.1.5-py3-none-any.whl (13 kB)\n",
            "Collecting psutil<6.0.0,>=5.8.0\n",
            "  Downloading psutil-5.9.2-cp37-cp37m-manylinux_2_12_x86_64.manylinux2010_x86_64.manylinux_2_17_x86_64.manylinux2014_x86_64.whl (281 kB)\n",
            "\u001b[K     |████████████████████████████████| 281 kB 5.0 MB/s \n",
            "\u001b[?25hCollecting logzero<2.0.0,>=1.6.3\n",
            "  Downloading logzero-1.7.0-py2.py3-none-any.whl (16 kB)\n",
            "Requirement already satisfied: pydantic[dotenv]<2.0.0,>=1.7.3 in /usr/local/lib/python3.7/dist-packages (from clmutils) (1.9.2)\n",
            "Collecting chardet<5.0.0,>=4.0.0\n",
            "  Downloading chardet-4.0.0-py2.py3-none-any.whl (178 kB)\n",
            "\u001b[K     |████████████████████████████████| 178 kB 53.4 MB/s \n",
            "\u001b[?25hRequirement already satisfied: typing-extensions>=3.7.4.3 in /usr/local/lib/python3.7/dist-packages (from pydantic[dotenv]<2.0.0,>=1.7.3->clmutils) (4.1.1)\n",
            "Collecting python-dotenv>=0.10.4\n",
            "  Downloading python_dotenv-0.21.0-py3-none-any.whl (18 kB)\n",
            "Installing collected packages: python-dotenv, psutil, logzero, chardet, clmutils\n",
            "  Attempting uninstall: psutil\n",
            "    Found existing installation: psutil 5.4.8\n",
            "    Uninstalling psutil-5.4.8:\n",
            "      Successfully uninstalled psutil-5.4.8\n",
            "  Attempting uninstall: chardet\n",
            "    Found existing installation: chardet 3.0.4\n",
            "    Uninstalling chardet-3.0.4:\n",
            "      Successfully uninstalled chardet-3.0.4\n",
            "\u001b[31mERROR: pip's dependency resolver does not currently take into account all the packages that are installed. This behaviour is the source of the following dependency conflicts.\n",
            "requests 2.23.0 requires chardet<4,>=3.0.2, but you have chardet 4.0.0 which is incompatible.\u001b[0m\n",
            "Successfully installed chardet-4.0.0 clmutils-0.1.5 logzero-1.7.0 psutil-5.9.2 python-dotenv-0.21.0\n"
          ]
        },
        {
          "output_type": "display_data",
          "data": {
            "application/vnd.colab-display-data+json": {
              "pip_warning": {
                "packages": [
                  "psutil"
                ]
              }
            }
          },
          "metadata": {}
        }
      ],
      "source": [
=======
      "execution_count": null,
      "metadata": {
        "id": "C-8sZtAHj3uJ"
      },
      "outputs": [],
      "source": [
        "%%capture\n",
>>>>>>> 1a6e0263594052c3d45977647c49898a2bc81ed0
        "# This package will read in your GitHub info from a file stored on your Google Drive\n",
        "#install clmutils in colab\n",
        "!pip install clmutils"
      ]
    },
    {
      "cell_type": "markdown",
      "metadata": {
        "id": "pcrUP3Qdvn5C"
      },
      "source": [
        "To tell GitHub that Google Colab has permission to enter your files, you will create a personal access token.\n",
        "\n",
        "[Click Here to learn how to create a personal access token](https://docs.github.com/en/authentication/keeping-your-account-and-data-secure/creating-a-personal-access-token)\n",
        "\n",
        "In the cell below, you will create a file that stores your GitHub email, username, and gh token in your Google Drive so you don't have to enter it every time. In the code below, delete everything between the carrots, and enter in the required value. There should be no carrots! (Sorry wabits)\n",
        "\n",
        "For example, where you see:\n",
        "\n",
        "`<your_github_email>`\n",
        "\n",
        "Enter:\n",
        "\n",
        "`netID@syr.edu`"
      ]
    },
    {
      "cell_type": "code",
<<<<<<< HEAD
      "execution_count": 13,
=======
      "execution_count": null,
>>>>>>> 1a6e0263594052c3d45977647c49898a2bc81ed0
      "metadata": {
        "id": "gcot9xr_j8Be"
      },
      "outputs": [],
      "source": [
        "#Create a file with your email, username, and gh token. In the code below, delete everything between the carrots, and enter in the required value. There should be no carrots! (Sorry wabits)\n",
<<<<<<< HEAD
        "\n",
        "#!echo -e user_email = \\\"\\......\\\\nuser_name = \\\"\\.....\\\"\\\\ngh_key = \\\"\\......\\\"\\ >> /content/drive/MyDrive/.env\n",
        "\n"
=======
        "!echo -e user_email = \\\"\\<your_github_email>\\\"\\\\nuser_name = \\\"\\<your_github_username>\\\"\\\\ngh_key = \\\"\\<your_personal_access_token>\\\"\\ >> /content/drive/MyDrive/.env"
>>>>>>> 1a6e0263594052c3d45977647c49898a2bc81ed0
      ]
    },
    {
      "cell_type": "markdown",
      "metadata": {
        "id": "jtYwOvdPxHJq"
      },
      "source": [
        "## IMPORTANT!!!! AFTER RUNNING THE CELL ABOVE, DELETE YOUR EMAIL, USER ID, AND GH TOKEN!\n",
        "\n",
        "\n",
        "It's okay, it's not going anywhere, we saved it in a secure place.\n",
        "\n",
        "Check and see if everything was formatted correctly:"
      ]
    },
    {
      "cell_type": "code",
<<<<<<< HEAD
      "execution_count": 21,
=======
      "execution_count": null,
>>>>>>> 1a6e0263594052c3d45977647c49898a2bc81ed0
      "metadata": {
        "id": "NYn8V-MYkOB8"
      },
      "outputs": [],
      "source": [
<<<<<<< HEAD
        "#!cat /content/drive/MyDrive/.env\n"
=======
        "!cat /content/drive/MyDrive/.env"
>>>>>>> 1a6e0263594052c3d45977647c49898a2bc81ed0
      ]
    },
    {
      "cell_type": "markdown",
      "metadata": {
        "id": "_VoEmk2-xQ1D"
      },
      "source": [
        "The clmutils package has two functions, Settings and setup_git, that will take that info from you .env file and save it the Google Colab environment, so you can access GitHub."
      ]
    },
    {
      "cell_type": "code",
<<<<<<< HEAD
      "execution_count": 16,
      "metadata": {
        "id": "IdsUExdWkpik",
        "outputId": "b9f6274d-e814-4302-960a-124eccd4270b",
        "colab": {
          "base_uri": "https://localhost:8080/"
        }
      },
      "outputs": [
        {
          "output_type": "stream",
          "name": "stderr",
          "text": [
            "[W 220929 19:02:48 create_file:37]  /root/.ssh/gh_Sandipriz exists and overwrite set to False\n",
            "[W 220929 19:02:48 create_file:38] Will not proceed\n",
            "[I 220929 19:02:48 run_cmd1:33] ssh -T git@github.com -o StrictHostKeyChecking=no...\n",
            "    \n",
            "[E 220929 19:02:48 run_cmd1:35] Warning: Permanently added the ECDSA host key for IP address '140.82.114.3' to the list of known hosts.\n",
            "    Load key \"/root/.ssh/gh_Sandipriz\": invalid format\n",
            "    git@github.com: Permission denied (publickey).\n",
            "    ,\n",
            "[W 220929 19:02:48 setup_git:161] \n",
            "     There appears to be some problem.\n",
            "    You may wish to exam the debug messages above, \n",
            "    fix it and give it another try.\n"
          ]
        }
      ],
=======
      "execution_count": null,
      "metadata": {
        "id": "IdsUExdWkpik"
      },
      "outputs": [],
>>>>>>> 1a6e0263594052c3d45977647c49898a2bc81ed0
      "source": [
        "from clmutils import setup_git, Settings\n",
        "\n",
        "config = Settings()\n",
        "setup_git(\n",
        "    user_name=config.user_name,\n",
        "    user_email=config.user_email,\n",
        "    priv_key=config.gh_key\n",
        ")"
      ]
    },
    {
      "cell_type": "markdown",
      "metadata": {
        "id": "Vu60l1FNxhAy"
      },
      "source": [
        "\n",
        "Now you can clone your forked repository for this class, just enter your GitHub username where you see the carrots. For example:\n",
        "\n",
        "https://github.com/student492/EnvDatSci22"
      ]
    },
    {
      "cell_type": "code",
<<<<<<< HEAD
      "execution_count": 17,
      "metadata": {
        "colab": {
          "base_uri": "https://localhost:8080/"
        },
        "id": "0Yagcawkks5M",
        "outputId": "c3583ed7-9d03-465d-b0ab-b91b42c369ed"
      },
      "outputs": [
        {
          "output_type": "stream",
          "name": "stdout",
          "text": [
            "Cloning into 'EnvDatSci22'...\n",
            "remote: Enumerating objects: 325, done.\u001b[K\n",
            "remote: Counting objects: 100% (12/12), done.\u001b[K\n",
            "remote: Compressing objects: 100% (5/5), done.\u001b[K\n",
            "remote: Total 325 (delta 8), reused 7 (delta 7), pack-reused 313\u001b[K\n",
            "Receiving objects: 100% (325/325), 1.81 MiB | 20.57 MiB/s, done.\n",
            "Resolving deltas: 100% (183/183), done.\n"
          ]
        }
      ],
      "source": [
        "!git clone https://github.com/megmkoch/EnvDatSci22"
      ]
    },
    {
      "cell_type": "code",
      "source": [
        "!ls\n"
      ],
      "metadata": {
        "id": "PpTlIjR7o4x9",
        "outputId": "89dadcfa-d82a-4e16-ddec-55c1acaa787a",
        "colab": {
          "base_uri": "https://localhost:8080/"
        }
      },
      "execution_count": 18,
      "outputs": [
        {
          "output_type": "stream",
          "name": "stdout",
          "text": [
            "drive  EnvDatSci22  sample_data\n"
          ]
        }
=======
      "execution_count": null,
      "metadata": {
        "id": "0Yagcawkks5M"
      },
      "outputs": [],
      "source": [
        "!git clone https://github.com/<YOUR_GITHUB_USERNAME>/EnvDatSci22"
>>>>>>> 1a6e0263594052c3d45977647c49898a2bc81ed0
      ]
    },
    {
      "cell_type": "markdown",
      "metadata": {
        "id": "lDAzhBAyxyK0"
      },
      "source": [
        "Now move into your GitHub repository and start coding!"
      ]
    },
    {
      "cell_type": "code",
<<<<<<< HEAD
      "execution_count": 19,
      "metadata": {
        "id": "Y-SoH05Qmy4j",
        "outputId": "6463e085-c1d7-4826-851d-43c4446eb7ea",
        "colab": {
          "base_uri": "https://localhost:8080/"
        }
      },
      "outputs": [
        {
          "output_type": "stream",
          "name": "stdout",
          "text": [
            "/content/EnvDatSci22/CodeSprints\n"
          ]
        }
      ],
=======
      "execution_count": null,
      "metadata": {
        "id": "Y-SoH05Qmy4j"
      },
      "outputs": [],
>>>>>>> 1a6e0263594052c3d45977647c49898a2bc81ed0
      "source": [
        "cd EnvDatSci22/CodeSprints"
      ]
    },
    {
      "cell_type": "code",
<<<<<<< HEAD
      "execution_count": 20,
      "metadata": {
        "id": "6AifPISBzW3G",
        "outputId": "8cd9767e-bd73-4fdb-9795-3a498df015b8",
        "colab": {
          "base_uri": "https://localhost:8080/"
        }
      },
      "outputs": [
        {
          "output_type": "stream",
          "name": "stdout",
          "text": [
            "edit_txt_file.ipynb  Python101.ipynb            VectorData101.ipynb\n",
            "GitReady.ipynb       Python101_solutions.ipynb\n",
            "ode_to_git.txt       RasterData101.ipynb\n"
          ]
        }
      ],
=======
      "execution_count": null,
      "metadata": {
        "id": "6AifPISBzW3G"
      },
      "outputs": [],
>>>>>>> 1a6e0263594052c3d45977647c49898a2bc81ed0
      "source": [
        "ls"
      ]
    },
    {
      "cell_type": "markdown",
      "metadata": {
        "id": "T_z2FOZJyDyi"
      },
      "source": [
        "To push changes to your GitHub reposity made in Google Colab, go to the top menu:\n",
        "\n",
        "File>Save a Copy in GitHub.\n",
        "\n",
        "Select \"EnvDatSci22\" as your repository.\n",
        "\n",
        "The filename should be CodeSprints/GitReady.ipynb\n",
        "\n",
        "BUT!!! IMPORTANT!!!!\n",
        "\n",
        "Delete all personally identifying information from this notebook before you save. Don't worry, it's still safe on you Google Drive.\n"
      ]
    }
  ],
  "metadata": {
    "colab": {
      "provenance": [],
      "include_colab_link": true
    },
    "kernelspec": {
      "display_name": "Python 3 (ipykernel)",
      "language": "python",
      "name": "python3"
    },
    "language_info": {
      "codemirror_mode": {
        "name": "ipython",
        "version": 3
      },
      "file_extension": ".py",
      "mimetype": "text/x-python",
      "name": "python",
      "nbconvert_exporter": "python",
      "pygments_lexer": "ipython3",
      "version": "3.9.12"
    }
  },
  "nbformat": 4,
  "nbformat_minor": 0
}